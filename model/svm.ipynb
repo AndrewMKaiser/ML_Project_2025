{
 "cells": [
  {
   "cell_type": "code",
   "execution_count": 4,
   "id": "730f3575",
   "metadata": {},
   "outputs": [
    {
     "name": "stderr",
     "output_type": "stream",
     "text": [
      "2025-05-10 16:57:14.849197: I external/local_xla/xla/tsl/cuda/cudart_stub.cc:32] Could not find cuda drivers on your machine, GPU will not be used.\n",
      "2025-05-10 16:57:14.962311: I external/local_xla/xla/tsl/cuda/cudart_stub.cc:32] Could not find cuda drivers on your machine, GPU will not be used.\n",
      "2025-05-10 16:57:15.059126: E external/local_xla/xla/stream_executor/cuda/cuda_fft.cc:467] Unable to register cuFFT factory: Attempting to register factory for plugin cuFFT when one has already been registered\n",
      "WARNING: All log messages before absl::InitializeLog() is called are written to STDERR\n",
      "E0000 00:00:1746917835.162338 1215127 cuda_dnn.cc:8579] Unable to register cuDNN factory: Attempting to register factory for plugin cuDNN when one has already been registered\n",
      "E0000 00:00:1746917835.191238 1215127 cuda_blas.cc:1407] Unable to register cuBLAS factory: Attempting to register factory for plugin cuBLAS when one has already been registered\n",
      "W0000 00:00:1746917835.385434 1215127 computation_placer.cc:177] computation placer already registered. Please check linkage and avoid linking the same target more than once.\n",
      "W0000 00:00:1746917835.385481 1215127 computation_placer.cc:177] computation placer already registered. Please check linkage and avoid linking the same target more than once.\n",
      "W0000 00:00:1746917835.385485 1215127 computation_placer.cc:177] computation placer already registered. Please check linkage and avoid linking the same target more than once.\n",
      "W0000 00:00:1746917835.385490 1215127 computation_placer.cc:177] computation placer already registered. Please check linkage and avoid linking the same target more than once.\n",
      "2025-05-10 16:57:15.404506: I tensorflow/core/platform/cpu_feature_guard.cc:210] This TensorFlow binary is optimized to use available CPU instructions in performance-critical operations.\n",
      "To enable the following instructions: AVX2 FMA, in other operations, rebuild TensorFlow with the appropriate compiler flags.\n"
     ]
    }
   ],
   "source": [
    "import tensorflow as tf"
   ]
  },
  {
   "cell_type": "code",
   "execution_count": 69,
   "id": "7a28521c",
   "metadata": {},
   "outputs": [
    {
     "name": "stdout",
     "output_type": "stream",
     "text": [
      "Example 1\n",
      "Note: 217495\n",
      "Instrument: bass_synthetic_018\n",
      "Instrument Family: bass\n",
      "Qualities: ['distortion', 'fast_decay', 'percussive']\n",
      "Example 2\n",
      "Note: 266066\n",
      "Instrument: bass_synthetic_018\n",
      "Instrument Family: bass\n",
      "Qualities: ['distortion', 'fast_decay', 'percussive']\n",
      "Example 3\n",
      "Note: 163673\n",
      "Instrument: bass_synthetic_018\n",
      "Instrument Family: bass\n",
      "Qualities: ['distortion', 'fast_decay']\n",
      "Example 4\n",
      "Note: 22459\n",
      "Instrument: bass_synthetic_018\n",
      "Instrument Family: bass\n",
      "Qualities: ['distortion', 'fast_decay']\n",
      "Example 5\n",
      "Note: 231254\n",
      "Instrument: bass_synthetic_018\n",
      "Instrument Family: bass\n",
      "Qualities: ['distortion', 'fast_decay']\n",
      "Example 6\n",
      "Note: 209097\n",
      "Instrument: bass_synthetic_018\n",
      "Instrument Family: bass\n",
      "Qualities: ['distortion', 'fast_decay', 'percussive']\n",
      "Example 7\n",
      "Note: 272473\n",
      "Instrument: bass_synthetic_018\n",
      "Instrument Family: bass\n",
      "Qualities: ['distortion', 'fast_decay', 'percussive']\n",
      "Example 8\n",
      "Note: 231913\n",
      "Instrument: bass_synthetic_018\n",
      "Instrument Family: bass\n",
      "Qualities: ['distortion', 'fast_decay']\n",
      "Example 9\n",
      "Note: 9771\n",
      "Instrument: bass_synthetic_018\n",
      "Instrument Family: bass\n",
      "Qualities: ['distortion', 'fast_decay']\n",
      "Example 10\n",
      "Note: 256832\n",
      "Instrument: bass_synthetic_018\n",
      "Instrument Family: bass\n",
      "Qualities: ['distortion', 'fast_decay']\n"
     ]
    }
   ],
   "source": [
    "# parse single tf record\n",
    "def parse_tfrecord(file):\n",
    "    feature_description={\n",
    "        'note' : tf.io.FixedLenFeature([], tf.int64),\n",
    "        'note_str' : tf.io.FixedLenFeature([], tf.string),\n",
    "        'instrument' : tf.io.FixedLenFeature([], tf.int64),\n",
    "        'instrument_str' : tf.io.FixedLenFeature([], tf.string),\n",
    "        'pitch': tf.io.FixedLenFeature([], tf.int64),\n",
    "        'velocity': tf.io.FixedLenFeature([], tf.int64),\n",
    "        'sample_rate': tf.io.FixedLenFeature([], tf.int64),\n",
    "        'audio': tf.io.FixedLenFeature([64000], tf.float32),\n",
    "        'qualities': tf.io.FixedLenFeature([10], tf.int64),\n",
    "        'qualities_str': tf.io.VarLenFeature(tf.string),\n",
    "        'instrument_family': tf.io.FixedLenFeature([], tf.int64),\n",
    "        'instrument_family_str': tf.io.FixedLenFeature([], tf.string),\n",
    "        'instrument_source': tf.io.FixedLenFeature([], tf.int64),\n",
    "        'instrument_source_str': tf.io.FixedLenFeature([], tf.string)\n",
    "    }\n",
    "    \n",
    "    return tf.io.parse_single_example(file, feature_description)\n",
    "\n",
    "# test parse function\n",
    "# intake training dataset\n",
    "trainDS_raw = tf.data.TFRecordDataset(\"/home/case/Documents/nsynth-train.tfrecord\")\n",
    "\n",
    "# map parsing function to dataset\n",
    "trainingDS = trainDS_raw.map(parse_tfrecord)\n",
    "\n",
    "num_examples = 0\n",
    "#for _ in trainingDS:\n",
    "#    num_examples += 1\n",
    "#print(f\"Total number of examples in dataset: {num_examples}\")\n",
    "\n",
    "# grab a few examples and examine them\n",
    "\n",
    "tenExamples = trainingDS.take(10)\n",
    "\n",
    "for i, example in enumerate(tenExamples):\n",
    "    print(f\"Example {i+1}\")\n",
    "    print(f\"Note: {example['note']}\")\n",
    "    instrument_bytes = example['instrument_str'].numpy()\n",
    "    print(f\"Instrument: {instrument_bytes.decode('utf-8')}\")\n",
    "    instrument_fam_bytes = example['instrument_family_str'].numpy()\n",
    "    print(f\"Instrument Family: {instrument_fam_bytes.decode('utf-8')}\")\n",
    "    qualities_str_list_bytes = example['qualities_str'].values\n",
    "    qualities_str_list = [value.decode('utf-8') for value in qualities_str_list_bytes.numpy()]\n",
    "    print(f\"Qualities: {qualities_str_list}\")\n",
    "    \n"
   ]
  },
  {
   "cell_type": "code",
   "execution_count": null,
   "id": "76e68866",
   "metadata": {},
   "outputs": [],
   "source": []
  }
 ],
 "metadata": {
  "kernelspec": {
   "display_name": "svm",
   "language": "python",
   "name": "svm"
  },
  "language_info": {
   "codemirror_mode": {
    "name": "ipython",
    "version": 3
   },
   "file_extension": ".py",
   "mimetype": "text/x-python",
   "name": "python",
   "nbconvert_exporter": "python",
   "pygments_lexer": "ipython3",
   "version": "3.12.10"
  }
 },
 "nbformat": 4,
 "nbformat_minor": 5
}
