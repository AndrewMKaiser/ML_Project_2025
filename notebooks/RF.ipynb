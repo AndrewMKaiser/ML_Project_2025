{
  "nbformat": 4,
  "nbformat_minor": 0,
  "metadata": {
    "colab": {
      "provenance": [],
      "machine_shape": "hm",
      "gpuType": "A100"
    },
    "kernelspec": {
      "name": "python3",
      "display_name": "Python 3"
    },
    "language_info": {
      "name": "python"
    },
    "accelerator": "GPU",
    "widgets": {
      "application/vnd.jupyter.widget-state+json": {
        "b8af9d99d31d43e799a1dbb07e7af0b5": {
          "model_module": "@jupyter-widgets/controls",
          "model_name": "HBoxModel",
          "model_module_version": "1.5.0",
          "state": {
            "_dom_classes": [],
            "_model_module": "@jupyter-widgets/controls",
            "_model_module_version": "1.5.0",
            "_model_name": "HBoxModel",
            "_view_count": null,
            "_view_module": "@jupyter-widgets/controls",
            "_view_module_version": "1.5.0",
            "_view_name": "HBoxView",
            "box_style": "",
            "children": [
              "IPY_MODEL_8f8fc7f359da4c21a93f5f2456c4eb63",
              "IPY_MODEL_35ceb1db30c643659ace94d7daed72f7",
              "IPY_MODEL_0ff21c4a69b945a1bc6c5db07b5c4e91"
            ],
            "layout": "IPY_MODEL_607dca3e13b24f15ad8b6e12529f9a74"
          }
        },
        "8f8fc7f359da4c21a93f5f2456c4eb63": {
          "model_module": "@jupyter-widgets/controls",
          "model_name": "HTMLModel",
          "model_module_version": "1.5.0",
          "state": {
            "_dom_classes": [],
            "_model_module": "@jupyter-widgets/controls",
            "_model_module_version": "1.5.0",
            "_model_name": "HTMLModel",
            "_view_count": null,
            "_view_module": "@jupyter-widgets/controls",
            "_view_module_version": "1.5.0",
            "_view_name": "HTMLView",
            "description": "",
            "description_tooltip": null,
            "layout": "IPY_MODEL_3dbd000502ae4906be1ccb670f247390",
            "placeholder": "​",
            "style": "IPY_MODEL_b7a92431f674434db078130e64d056d0",
            "value": "Converting train: 100%"
          }
        },
        "35ceb1db30c643659ace94d7daed72f7": {
          "model_module": "@jupyter-widgets/controls",
          "model_name": "FloatProgressModel",
          "model_module_version": "1.5.0",
          "state": {
            "_dom_classes": [],
            "_model_module": "@jupyter-widgets/controls",
            "_model_module_version": "1.5.0",
            "_model_name": "FloatProgressModel",
            "_view_count": null,
            "_view_module": "@jupyter-widgets/controls",
            "_view_module_version": "1.5.0",
            "_view_name": "ProgressView",
            "bar_style": "success",
            "description": "",
            "description_tooltip": null,
            "layout": "IPY_MODEL_a56a2ccc98d148e6a67ac5309bc73ece",
            "max": 142,
            "min": 0,
            "orientation": "horizontal",
            "style": "IPY_MODEL_e5b02343c41d4bc38c019d3d40ad87bb",
            "value": 142
          }
        },
        "0ff21c4a69b945a1bc6c5db07b5c4e91": {
          "model_module": "@jupyter-widgets/controls",
          "model_name": "HTMLModel",
          "model_module_version": "1.5.0",
          "state": {
            "_dom_classes": [],
            "_model_module": "@jupyter-widgets/controls",
            "_model_module_version": "1.5.0",
            "_model_name": "HTMLModel",
            "_view_count": null,
            "_view_module": "@jupyter-widgets/controls",
            "_view_module_version": "1.5.0",
            "_view_name": "HTMLView",
            "description": "",
            "description_tooltip": null,
            "layout": "IPY_MODEL_0f80302763e949d3b705c0a70a1de972",
            "placeholder": "​",
            "style": "IPY_MODEL_1314bfd05ae344b8a718abbeec6648d3",
            "value": " 142/142 [13:25&lt;00:00,  3.77s/it]"
          }
        },
        "607dca3e13b24f15ad8b6e12529f9a74": {
          "model_module": "@jupyter-widgets/base",
          "model_name": "LayoutModel",
          "model_module_version": "1.2.0",
          "state": {
            "_model_module": "@jupyter-widgets/base",
            "_model_module_version": "1.2.0",
            "_model_name": "LayoutModel",
            "_view_count": null,
            "_view_module": "@jupyter-widgets/base",
            "_view_module_version": "1.2.0",
            "_view_name": "LayoutView",
            "align_content": null,
            "align_items": null,
            "align_self": null,
            "border": null,
            "bottom": null,
            "display": null,
            "flex": null,
            "flex_flow": null,
            "grid_area": null,
            "grid_auto_columns": null,
            "grid_auto_flow": null,
            "grid_auto_rows": null,
            "grid_column": null,
            "grid_gap": null,
            "grid_row": null,
            "grid_template_areas": null,
            "grid_template_columns": null,
            "grid_template_rows": null,
            "height": null,
            "justify_content": null,
            "justify_items": null,
            "left": null,
            "margin": null,
            "max_height": null,
            "max_width": null,
            "min_height": null,
            "min_width": null,
            "object_fit": null,
            "object_position": null,
            "order": null,
            "overflow": null,
            "overflow_x": null,
            "overflow_y": null,
            "padding": null,
            "right": null,
            "top": null,
            "visibility": null,
            "width": null
          }
        },
        "3dbd000502ae4906be1ccb670f247390": {
          "model_module": "@jupyter-widgets/base",
          "model_name": "LayoutModel",
          "model_module_version": "1.2.0",
          "state": {
            "_model_module": "@jupyter-widgets/base",
            "_model_module_version": "1.2.0",
            "_model_name": "LayoutModel",
            "_view_count": null,
            "_view_module": "@jupyter-widgets/base",
            "_view_module_version": "1.2.0",
            "_view_name": "LayoutView",
            "align_content": null,
            "align_items": null,
            "align_self": null,
            "border": null,
            "bottom": null,
            "display": null,
            "flex": null,
            "flex_flow": null,
            "grid_area": null,
            "grid_auto_columns": null,
            "grid_auto_flow": null,
            "grid_auto_rows": null,
            "grid_column": null,
            "grid_gap": null,
            "grid_row": null,
            "grid_template_areas": null,
            "grid_template_columns": null,
            "grid_template_rows": null,
            "height": null,
            "justify_content": null,
            "justify_items": null,
            "left": null,
            "margin": null,
            "max_height": null,
            "max_width": null,
            "min_height": null,
            "min_width": null,
            "object_fit": null,
            "object_position": null,
            "order": null,
            "overflow": null,
            "overflow_x": null,
            "overflow_y": null,
            "padding": null,
            "right": null,
            "top": null,
            "visibility": null,
            "width": null
          }
        },
        "b7a92431f674434db078130e64d056d0": {
          "model_module": "@jupyter-widgets/controls",
          "model_name": "DescriptionStyleModel",
          "model_module_version": "1.5.0",
          "state": {
            "_model_module": "@jupyter-widgets/controls",
            "_model_module_version": "1.5.0",
            "_model_name": "DescriptionStyleModel",
            "_view_count": null,
            "_view_module": "@jupyter-widgets/base",
            "_view_module_version": "1.2.0",
            "_view_name": "StyleView",
            "description_width": ""
          }
        },
        "a56a2ccc98d148e6a67ac5309bc73ece": {
          "model_module": "@jupyter-widgets/base",
          "model_name": "LayoutModel",
          "model_module_version": "1.2.0",
          "state": {
            "_model_module": "@jupyter-widgets/base",
            "_model_module_version": "1.2.0",
            "_model_name": "LayoutModel",
            "_view_count": null,
            "_view_module": "@jupyter-widgets/base",
            "_view_module_version": "1.2.0",
            "_view_name": "LayoutView",
            "align_content": null,
            "align_items": null,
            "align_self": null,
            "border": null,
            "bottom": null,
            "display": null,
            "flex": null,
            "flex_flow": null,
            "grid_area": null,
            "grid_auto_columns": null,
            "grid_auto_flow": null,
            "grid_auto_rows": null,
            "grid_column": null,
            "grid_gap": null,
            "grid_row": null,
            "grid_template_areas": null,
            "grid_template_columns": null,
            "grid_template_rows": null,
            "height": null,
            "justify_content": null,
            "justify_items": null,
            "left": null,
            "margin": null,
            "max_height": null,
            "max_width": null,
            "min_height": null,
            "min_width": null,
            "object_fit": null,
            "object_position": null,
            "order": null,
            "overflow": null,
            "overflow_x": null,
            "overflow_y": null,
            "padding": null,
            "right": null,
            "top": null,
            "visibility": null,
            "width": null
          }
        },
        "e5b02343c41d4bc38c019d3d40ad87bb": {
          "model_module": "@jupyter-widgets/controls",
          "model_name": "ProgressStyleModel",
          "model_module_version": "1.5.0",
          "state": {
            "_model_module": "@jupyter-widgets/controls",
            "_model_module_version": "1.5.0",
            "_model_name": "ProgressStyleModel",
            "_view_count": null,
            "_view_module": "@jupyter-widgets/base",
            "_view_module_version": "1.2.0",
            "_view_name": "StyleView",
            "bar_color": null,
            "description_width": ""
          }
        },
        "0f80302763e949d3b705c0a70a1de972": {
          "model_module": "@jupyter-widgets/base",
          "model_name": "LayoutModel",
          "model_module_version": "1.2.0",
          "state": {
            "_model_module": "@jupyter-widgets/base",
            "_model_module_version": "1.2.0",
            "_model_name": "LayoutModel",
            "_view_count": null,
            "_view_module": "@jupyter-widgets/base",
            "_view_module_version": "1.2.0",
            "_view_name": "LayoutView",
            "align_content": null,
            "align_items": null,
            "align_self": null,
            "border": null,
            "bottom": null,
            "display": null,
            "flex": null,
            "flex_flow": null,
            "grid_area": null,
            "grid_auto_columns": null,
            "grid_auto_flow": null,
            "grid_auto_rows": null,
            "grid_column": null,
            "grid_gap": null,
            "grid_row": null,
            "grid_template_areas": null,
            "grid_template_columns": null,
            "grid_template_rows": null,
            "height": null,
            "justify_content": null,
            "justify_items": null,
            "left": null,
            "margin": null,
            "max_height": null,
            "max_width": null,
            "min_height": null,
            "min_width": null,
            "object_fit": null,
            "object_position": null,
            "order": null,
            "overflow": null,
            "overflow_x": null,
            "overflow_y": null,
            "padding": null,
            "right": null,
            "top": null,
            "visibility": null,
            "width": null
          }
        },
        "1314bfd05ae344b8a718abbeec6648d3": {
          "model_module": "@jupyter-widgets/controls",
          "model_name": "DescriptionStyleModel",
          "model_module_version": "1.5.0",
          "state": {
            "_model_module": "@jupyter-widgets/controls",
            "_model_module_version": "1.5.0",
            "_model_name": "DescriptionStyleModel",
            "_view_count": null,
            "_view_module": "@jupyter-widgets/base",
            "_view_module_version": "1.2.0",
            "_view_name": "StyleView",
            "description_width": ""
          }
        },
        "aa223d4838754a20834d7fed2d5fc286": {
          "model_module": "@jupyter-widgets/controls",
          "model_name": "HBoxModel",
          "model_module_version": "1.5.0",
          "state": {
            "_dom_classes": [],
            "_model_module": "@jupyter-widgets/controls",
            "_model_module_version": "1.5.0",
            "_model_name": "HBoxModel",
            "_view_count": null,
            "_view_module": "@jupyter-widgets/controls",
            "_view_module_version": "1.5.0",
            "_view_name": "HBoxView",
            "box_style": "",
            "children": [
              "IPY_MODEL_034cba2afbd8421d93d45d41c2faaec6",
              "IPY_MODEL_eddad16d75bd43308f8800665091412a",
              "IPY_MODEL_34b83067d2a14f5abdfaf1fcd2e483e0"
            ],
            "layout": "IPY_MODEL_045f569ffc73445bb5363666d602fd86"
          }
        },
        "034cba2afbd8421d93d45d41c2faaec6": {
          "model_module": "@jupyter-widgets/controls",
          "model_name": "HTMLModel",
          "model_module_version": "1.5.0",
          "state": {
            "_dom_classes": [],
            "_model_module": "@jupyter-widgets/controls",
            "_model_module_version": "1.5.0",
            "_model_name": "HTMLModel",
            "_view_count": null,
            "_view_module": "@jupyter-widgets/controls",
            "_view_module_version": "1.5.0",
            "_view_name": "HTMLView",
            "description": "",
            "description_tooltip": null,
            "layout": "IPY_MODEL_e5380c20ece44e52b3aad6e4f7503ad4",
            "placeholder": "​",
            "style": "IPY_MODEL_f6e75112bdbb4ce09534266243bd9dc1",
            "value": "Converting valid: 100%"
          }
        },
        "eddad16d75bd43308f8800665091412a": {
          "model_module": "@jupyter-widgets/controls",
          "model_name": "FloatProgressModel",
          "model_module_version": "1.5.0",
          "state": {
            "_dom_classes": [],
            "_model_module": "@jupyter-widgets/controls",
            "_model_module_version": "1.5.0",
            "_model_name": "FloatProgressModel",
            "_view_count": null,
            "_view_module": "@jupyter-widgets/controls",
            "_view_module_version": "1.5.0",
            "_view_name": "ProgressView",
            "bar_style": "success",
            "description": "",
            "description_tooltip": null,
            "layout": "IPY_MODEL_ff524e3f09f64f30b0917aeffc5519e6",
            "max": 7,
            "min": 0,
            "orientation": "horizontal",
            "style": "IPY_MODEL_87a2394a7c4a45f7a49124749a594f03",
            "value": 7
          }
        },
        "34b83067d2a14f5abdfaf1fcd2e483e0": {
          "model_module": "@jupyter-widgets/controls",
          "model_name": "HTMLModel",
          "model_module_version": "1.5.0",
          "state": {
            "_dom_classes": [],
            "_model_module": "@jupyter-widgets/controls",
            "_model_module_version": "1.5.0",
            "_model_name": "HTMLModel",
            "_view_count": null,
            "_view_module": "@jupyter-widgets/controls",
            "_view_module_version": "1.5.0",
            "_view_name": "HTMLView",
            "description": "",
            "description_tooltip": null,
            "layout": "IPY_MODEL_e5d7afbf182d41c88131fa199f1c4eca",
            "placeholder": "​",
            "style": "IPY_MODEL_fad1d2aaba6c4e5c8a4a9c32d5044ba0",
            "value": " 7/7 [00:32&lt;00:00,  3.37s/it]"
          }
        },
        "045f569ffc73445bb5363666d602fd86": {
          "model_module": "@jupyter-widgets/base",
          "model_name": "LayoutModel",
          "model_module_version": "1.2.0",
          "state": {
            "_model_module": "@jupyter-widgets/base",
            "_model_module_version": "1.2.0",
            "_model_name": "LayoutModel",
            "_view_count": null,
            "_view_module": "@jupyter-widgets/base",
            "_view_module_version": "1.2.0",
            "_view_name": "LayoutView",
            "align_content": null,
            "align_items": null,
            "align_self": null,
            "border": null,
            "bottom": null,
            "display": null,
            "flex": null,
            "flex_flow": null,
            "grid_area": null,
            "grid_auto_columns": null,
            "grid_auto_flow": null,
            "grid_auto_rows": null,
            "grid_column": null,
            "grid_gap": null,
            "grid_row": null,
            "grid_template_areas": null,
            "grid_template_columns": null,
            "grid_template_rows": null,
            "height": null,
            "justify_content": null,
            "justify_items": null,
            "left": null,
            "margin": null,
            "max_height": null,
            "max_width": null,
            "min_height": null,
            "min_width": null,
            "object_fit": null,
            "object_position": null,
            "order": null,
            "overflow": null,
            "overflow_x": null,
            "overflow_y": null,
            "padding": null,
            "right": null,
            "top": null,
            "visibility": null,
            "width": null
          }
        },
        "e5380c20ece44e52b3aad6e4f7503ad4": {
          "model_module": "@jupyter-widgets/base",
          "model_name": "LayoutModel",
          "model_module_version": "1.2.0",
          "state": {
            "_model_module": "@jupyter-widgets/base",
            "_model_module_version": "1.2.0",
            "_model_name": "LayoutModel",
            "_view_count": null,
            "_view_module": "@jupyter-widgets/base",
            "_view_module_version": "1.2.0",
            "_view_name": "LayoutView",
            "align_content": null,
            "align_items": null,
            "align_self": null,
            "border": null,
            "bottom": null,
            "display": null,
            "flex": null,
            "flex_flow": null,
            "grid_area": null,
            "grid_auto_columns": null,
            "grid_auto_flow": null,
            "grid_auto_rows": null,
            "grid_column": null,
            "grid_gap": null,
            "grid_row": null,
            "grid_template_areas": null,
            "grid_template_columns": null,
            "grid_template_rows": null,
            "height": null,
            "justify_content": null,
            "justify_items": null,
            "left": null,
            "margin": null,
            "max_height": null,
            "max_width": null,
            "min_height": null,
            "min_width": null,
            "object_fit": null,
            "object_position": null,
            "order": null,
            "overflow": null,
            "overflow_x": null,
            "overflow_y": null,
            "padding": null,
            "right": null,
            "top": null,
            "visibility": null,
            "width": null
          }
        },
        "f6e75112bdbb4ce09534266243bd9dc1": {
          "model_module": "@jupyter-widgets/controls",
          "model_name": "DescriptionStyleModel",
          "model_module_version": "1.5.0",
          "state": {
            "_model_module": "@jupyter-widgets/controls",
            "_model_module_version": "1.5.0",
            "_model_name": "DescriptionStyleModel",
            "_view_count": null,
            "_view_module": "@jupyter-widgets/base",
            "_view_module_version": "1.2.0",
            "_view_name": "StyleView",
            "description_width": ""
          }
        },
        "ff524e3f09f64f30b0917aeffc5519e6": {
          "model_module": "@jupyter-widgets/base",
          "model_name": "LayoutModel",
          "model_module_version": "1.2.0",
          "state": {
            "_model_module": "@jupyter-widgets/base",
            "_model_module_version": "1.2.0",
            "_model_name": "LayoutModel",
            "_view_count": null,
            "_view_module": "@jupyter-widgets/base",
            "_view_module_version": "1.2.0",
            "_view_name": "LayoutView",
            "align_content": null,
            "align_items": null,
            "align_self": null,
            "border": null,
            "bottom": null,
            "display": null,
            "flex": null,
            "flex_flow": null,
            "grid_area": null,
            "grid_auto_columns": null,
            "grid_auto_flow": null,
            "grid_auto_rows": null,
            "grid_column": null,
            "grid_gap": null,
            "grid_row": null,
            "grid_template_areas": null,
            "grid_template_columns": null,
            "grid_template_rows": null,
            "height": null,
            "justify_content": null,
            "justify_items": null,
            "left": null,
            "margin": null,
            "max_height": null,
            "max_width": null,
            "min_height": null,
            "min_width": null,
            "object_fit": null,
            "object_position": null,
            "order": null,
            "overflow": null,
            "overflow_x": null,
            "overflow_y": null,
            "padding": null,
            "right": null,
            "top": null,
            "visibility": null,
            "width": null
          }
        },
        "87a2394a7c4a45f7a49124749a594f03": {
          "model_module": "@jupyter-widgets/controls",
          "model_name": "ProgressStyleModel",
          "model_module_version": "1.5.0",
          "state": {
            "_model_module": "@jupyter-widgets/controls",
            "_model_module_version": "1.5.0",
            "_model_name": "ProgressStyleModel",
            "_view_count": null,
            "_view_module": "@jupyter-widgets/base",
            "_view_module_version": "1.2.0",
            "_view_name": "StyleView",
            "bar_color": null,
            "description_width": ""
          }
        },
        "e5d7afbf182d41c88131fa199f1c4eca": {
          "model_module": "@jupyter-widgets/base",
          "model_name": "LayoutModel",
          "model_module_version": "1.2.0",
          "state": {
            "_model_module": "@jupyter-widgets/base",
            "_model_module_version": "1.2.0",
            "_model_name": "LayoutModel",
            "_view_count": null,
            "_view_module": "@jupyter-widgets/base",
            "_view_module_version": "1.2.0",
            "_view_name": "LayoutView",
            "align_content": null,
            "align_items": null,
            "align_self": null,
            "border": null,
            "bottom": null,
            "display": null,
            "flex": null,
            "flex_flow": null,
            "grid_area": null,
            "grid_auto_columns": null,
            "grid_auto_flow": null,
            "grid_auto_rows": null,
            "grid_column": null,
            "grid_gap": null,
            "grid_row": null,
            "grid_template_areas": null,
            "grid_template_columns": null,
            "grid_template_rows": null,
            "height": null,
            "justify_content": null,
            "justify_items": null,
            "left": null,
            "margin": null,
            "max_height": null,
            "max_width": null,
            "min_height": null,
            "min_width": null,
            "object_fit": null,
            "object_position": null,
            "order": null,
            "overflow": null,
            "overflow_x": null,
            "overflow_y": null,
            "padding": null,
            "right": null,
            "top": null,
            "visibility": null,
            "width": null
          }
        },
        "fad1d2aaba6c4e5c8a4a9c32d5044ba0": {
          "model_module": "@jupyter-widgets/controls",
          "model_name": "DescriptionStyleModel",
          "model_module_version": "1.5.0",
          "state": {
            "_model_module": "@jupyter-widgets/controls",
            "_model_module_version": "1.5.0",
            "_model_name": "DescriptionStyleModel",
            "_view_count": null,
            "_view_module": "@jupyter-widgets/base",
            "_view_module_version": "1.2.0",
            "_view_name": "StyleView",
            "description_width": ""
          }
        },
        "b509b94fd7dd461bbb162b895e9e768a": {
          "model_module": "@jupyter-widgets/controls",
          "model_name": "HBoxModel",
          "model_module_version": "1.5.0",
          "state": {
            "_dom_classes": [],
            "_model_module": "@jupyter-widgets/controls",
            "_model_module_version": "1.5.0",
            "_model_name": "HBoxModel",
            "_view_count": null,
            "_view_module": "@jupyter-widgets/controls",
            "_view_module_version": "1.5.0",
            "_view_name": "HBoxView",
            "box_style": "",
            "children": [
              "IPY_MODEL_8b25264f68044ee9b7e3dca1cc5e0286",
              "IPY_MODEL_18d303be09014b56974ec00dc4ac8de8",
              "IPY_MODEL_c0eb31ed4ed142e49ca720b471f2e38b"
            ],
            "layout": "IPY_MODEL_1a572ece22104d07b06fab90484c52b1"
          }
        },
        "8b25264f68044ee9b7e3dca1cc5e0286": {
          "model_module": "@jupyter-widgets/controls",
          "model_name": "HTMLModel",
          "model_module_version": "1.5.0",
          "state": {
            "_dom_classes": [],
            "_model_module": "@jupyter-widgets/controls",
            "_model_module_version": "1.5.0",
            "_model_name": "HTMLModel",
            "_view_count": null,
            "_view_module": "@jupyter-widgets/controls",
            "_view_module_version": "1.5.0",
            "_view_name": "HTMLView",
            "description": "",
            "description_tooltip": null,
            "layout": "IPY_MODEL_63d36ad4ca294540b90ce118868887bc",
            "placeholder": "​",
            "style": "IPY_MODEL_221fbaa607d545dd8637148ccd86ad05",
            "value": "H-param sweep: 100%"
          }
        },
        "18d303be09014b56974ec00dc4ac8de8": {
          "model_module": "@jupyter-widgets/controls",
          "model_name": "FloatProgressModel",
          "model_module_version": "1.5.0",
          "state": {
            "_dom_classes": [],
            "_model_module": "@jupyter-widgets/controls",
            "_model_module_version": "1.5.0",
            "_model_name": "FloatProgressModel",
            "_view_count": null,
            "_view_module": "@jupyter-widgets/controls",
            "_view_module_version": "1.5.0",
            "_view_name": "ProgressView",
            "bar_style": "success",
            "description": "",
            "description_tooltip": null,
            "layout": "IPY_MODEL_4b1c0036d121440cbd5147a3f0f09076",
            "max": 64,
            "min": 0,
            "orientation": "horizontal",
            "style": "IPY_MODEL_eb5f7a36c9ae48719c36ef1fb25e9804",
            "value": 64
          }
        },
        "c0eb31ed4ed142e49ca720b471f2e38b": {
          "model_module": "@jupyter-widgets/controls",
          "model_name": "HTMLModel",
          "model_module_version": "1.5.0",
          "state": {
            "_dom_classes": [],
            "_model_module": "@jupyter-widgets/controls",
            "_model_module_version": "1.5.0",
            "_model_name": "HTMLModel",
            "_view_count": null,
            "_view_module": "@jupyter-widgets/controls",
            "_view_module_version": "1.5.0",
            "_view_name": "HTMLView",
            "description": "",
            "description_tooltip": null,
            "layout": "IPY_MODEL_4abbc97699ad41478254fc63ab033e98",
            "placeholder": "​",
            "style": "IPY_MODEL_324bd90e306f4cfcb10e8502f0145371",
            "value": " 64/64 [12:20&lt;00:00,  8.75s/it]"
          }
        },
        "1a572ece22104d07b06fab90484c52b1": {
          "model_module": "@jupyter-widgets/base",
          "model_name": "LayoutModel",
          "model_module_version": "1.2.0",
          "state": {
            "_model_module": "@jupyter-widgets/base",
            "_model_module_version": "1.2.0",
            "_model_name": "LayoutModel",
            "_view_count": null,
            "_view_module": "@jupyter-widgets/base",
            "_view_module_version": "1.2.0",
            "_view_name": "LayoutView",
            "align_content": null,
            "align_items": null,
            "align_self": null,
            "border": null,
            "bottom": null,
            "display": null,
            "flex": null,
            "flex_flow": null,
            "grid_area": null,
            "grid_auto_columns": null,
            "grid_auto_flow": null,
            "grid_auto_rows": null,
            "grid_column": null,
            "grid_gap": null,
            "grid_row": null,
            "grid_template_areas": null,
            "grid_template_columns": null,
            "grid_template_rows": null,
            "height": null,
            "justify_content": null,
            "justify_items": null,
            "left": null,
            "margin": null,
            "max_height": null,
            "max_width": null,
            "min_height": null,
            "min_width": null,
            "object_fit": null,
            "object_position": null,
            "order": null,
            "overflow": null,
            "overflow_x": null,
            "overflow_y": null,
            "padding": null,
            "right": null,
            "top": null,
            "visibility": null,
            "width": null
          }
        },
        "63d36ad4ca294540b90ce118868887bc": {
          "model_module": "@jupyter-widgets/base",
          "model_name": "LayoutModel",
          "model_module_version": "1.2.0",
          "state": {
            "_model_module": "@jupyter-widgets/base",
            "_model_module_version": "1.2.0",
            "_model_name": "LayoutModel",
            "_view_count": null,
            "_view_module": "@jupyter-widgets/base",
            "_view_module_version": "1.2.0",
            "_view_name": "LayoutView",
            "align_content": null,
            "align_items": null,
            "align_self": null,
            "border": null,
            "bottom": null,
            "display": null,
            "flex": null,
            "flex_flow": null,
            "grid_area": null,
            "grid_auto_columns": null,
            "grid_auto_flow": null,
            "grid_auto_rows": null,
            "grid_column": null,
            "grid_gap": null,
            "grid_row": null,
            "grid_template_areas": null,
            "grid_template_columns": null,
            "grid_template_rows": null,
            "height": null,
            "justify_content": null,
            "justify_items": null,
            "left": null,
            "margin": null,
            "max_height": null,
            "max_width": null,
            "min_height": null,
            "min_width": null,
            "object_fit": null,
            "object_position": null,
            "order": null,
            "overflow": null,
            "overflow_x": null,
            "overflow_y": null,
            "padding": null,
            "right": null,
            "top": null,
            "visibility": null,
            "width": null
          }
        },
        "221fbaa607d545dd8637148ccd86ad05": {
          "model_module": "@jupyter-widgets/controls",
          "model_name": "DescriptionStyleModel",
          "model_module_version": "1.5.0",
          "state": {
            "_model_module": "@jupyter-widgets/controls",
            "_model_module_version": "1.5.0",
            "_model_name": "DescriptionStyleModel",
            "_view_count": null,
            "_view_module": "@jupyter-widgets/base",
            "_view_module_version": "1.2.0",
            "_view_name": "StyleView",
            "description_width": ""
          }
        },
        "4b1c0036d121440cbd5147a3f0f09076": {
          "model_module": "@jupyter-widgets/base",
          "model_name": "LayoutModel",
          "model_module_version": "1.2.0",
          "state": {
            "_model_module": "@jupyter-widgets/base",
            "_model_module_version": "1.2.0",
            "_model_name": "LayoutModel",
            "_view_count": null,
            "_view_module": "@jupyter-widgets/base",
            "_view_module_version": "1.2.0",
            "_view_name": "LayoutView",
            "align_content": null,
            "align_items": null,
            "align_self": null,
            "border": null,
            "bottom": null,
            "display": null,
            "flex": null,
            "flex_flow": null,
            "grid_area": null,
            "grid_auto_columns": null,
            "grid_auto_flow": null,
            "grid_auto_rows": null,
            "grid_column": null,
            "grid_gap": null,
            "grid_row": null,
            "grid_template_areas": null,
            "grid_template_columns": null,
            "grid_template_rows": null,
            "height": null,
            "justify_content": null,
            "justify_items": null,
            "left": null,
            "margin": null,
            "max_height": null,
            "max_width": null,
            "min_height": null,
            "min_width": null,
            "object_fit": null,
            "object_position": null,
            "order": null,
            "overflow": null,
            "overflow_x": null,
            "overflow_y": null,
            "padding": null,
            "right": null,
            "top": null,
            "visibility": null,
            "width": null
          }
        },
        "eb5f7a36c9ae48719c36ef1fb25e9804": {
          "model_module": "@jupyter-widgets/controls",
          "model_name": "ProgressStyleModel",
          "model_module_version": "1.5.0",
          "state": {
            "_model_module": "@jupyter-widgets/controls",
            "_model_module_version": "1.5.0",
            "_model_name": "ProgressStyleModel",
            "_view_count": null,
            "_view_module": "@jupyter-widgets/base",
            "_view_module_version": "1.2.0",
            "_view_name": "StyleView",
            "bar_color": null,
            "description_width": ""
          }
        },
        "4abbc97699ad41478254fc63ab033e98": {
          "model_module": "@jupyter-widgets/base",
          "model_name": "LayoutModel",
          "model_module_version": "1.2.0",
          "state": {
            "_model_module": "@jupyter-widgets/base",
            "_model_module_version": "1.2.0",
            "_model_name": "LayoutModel",
            "_view_count": null,
            "_view_module": "@jupyter-widgets/base",
            "_view_module_version": "1.2.0",
            "_view_name": "LayoutView",
            "align_content": null,
            "align_items": null,
            "align_self": null,
            "border": null,
            "bottom": null,
            "display": null,
            "flex": null,
            "flex_flow": null,
            "grid_area": null,
            "grid_auto_columns": null,
            "grid_auto_flow": null,
            "grid_auto_rows": null,
            "grid_column": null,
            "grid_gap": null,
            "grid_row": null,
            "grid_template_areas": null,
            "grid_template_columns": null,
            "grid_template_rows": null,
            "height": null,
            "justify_content": null,
            "justify_items": null,
            "left": null,
            "margin": null,
            "max_height": null,
            "max_width": null,
            "min_height": null,
            "min_width": null,
            "object_fit": null,
            "object_position": null,
            "order": null,
            "overflow": null,
            "overflow_x": null,
            "overflow_y": null,
            "padding": null,
            "right": null,
            "top": null,
            "visibility": null,
            "width": null
          }
        },
        "324bd90e306f4cfcb10e8502f0145371": {
          "model_module": "@jupyter-widgets/controls",
          "model_name": "DescriptionStyleModel",
          "model_module_version": "1.5.0",
          "state": {
            "_model_module": "@jupyter-widgets/controls",
            "_model_module_version": "1.5.0",
            "_model_name": "DescriptionStyleModel",
            "_view_count": null,
            "_view_module": "@jupyter-widgets/base",
            "_view_module_version": "1.2.0",
            "_view_name": "StyleView",
            "description_width": ""
          }
        }
      }
    }
  },
  "cells": [
    {
      "cell_type": "markdown",
      "source": [
        "# Random Forest Instrument Classifier - NSynth\n",
        "\n",
        "This notebook classifies a given instrument using different features from NSynth samples. These models were trained on Google Colab using Nvidia A100 GPUs."
      ],
      "metadata": {
        "id": "sDLkbYho3FlU"
      }
    },
    {
      "cell_type": "markdown",
      "source": [
        "## Install RAPIDS for random forest GPU support"
      ],
      "metadata": {
        "id": "wDU4gzms5kEx"
      }
    },
    {
      "cell_type": "code",
      "source": [
        "!git clone --depth 1 https://github.com/rapidsai/rapidsai-csp-utils.git\n",
        "!python rapidsai-csp-utils/colab/pip-install.py\n"
      ],
      "metadata": {
        "colab": {
          "base_uri": "https://localhost:8080/"
        },
        "id": "r5DB4hNbQfwH",
        "outputId": "fa07a9c3-88e9-4c49-f35e-8dcdf0916f54"
      },
      "execution_count": 2,
      "outputs": [
        {
          "output_type": "stream",
          "name": "stdout",
          "text": [
            "Cloning into 'rapidsai-csp-utils'...\n",
            "remote: Enumerating objects: 18, done.\u001b[K\n",
            "remote: Counting objects: 100% (18/18), done.\u001b[K\n",
            "remote: Compressing objects: 100% (16/16), done.\u001b[K\n",
            "remote: Total 18 (delta 1), reused 11 (delta 0), pack-reused 0 (from 0)\u001b[K\n",
            "Receiving objects: 100% (18/18), 26.30 KiB | 2.19 MiB/s, done.\n",
            "Resolving deltas: 100% (1/1), done.\n",
            "Installing RAPIDS remaining 25.04 libraries\n",
            "Using Python 3.11.12 environment at: /usr\n",
            "Resolved 173 packages in 1.70s\n",
            "Downloading libcuml-cu12 (404.9MiB)\n",
            "Downloading cudf-cu12 (1.7MiB)\n",
            "Downloading cugraph-cu12 (3.0MiB)\n",
            "Downloading rmm-cu12 (1.5MiB)\n",
            "Downloading shapely (2.4MiB)\n",
            "Downloading datashader (17.5MiB)\n",
            "Downloading dask (1.3MiB)\n",
            "Downloading bokeh (6.6MiB)\n",
            "Downloading ucx-py-cu12 (2.2MiB)\n",
            "Downloading libcuspatial-cu12 (31.1MiB)\n",
            "Downloading libcuvs-cu12 (1.1GiB)\n",
            "Downloading pylibcudf-cu12 (26.4MiB)\n",
            "Downloading librmm-cu12 (2.9MiB)\n",
            "Downloading libcudf-cu12 (538.8MiB)\n",
            "Downloading libcugraph-cu12 (1.4GiB)\n",
            "Downloading cuspatial-cu12 (4.1MiB)\n",
            "Downloading raft-dask-cu12 (274.9MiB)\n",
            "Downloading cuml-cu12 (9.4MiB)\n",
            "Downloading pylibcugraph-cu12 (2.0MiB)\n",
            "Downloading cuproj-cu12 (1.1MiB)\n",
            "Downloading libkvikio-cu12 (2.0MiB)\n",
            "Downloading libraft-cu12 (20.8MiB)\n",
            "Downloading cucim-cu12 (5.6MiB)\n",
            " Downloaded cuproj-cu12\n",
            " Downloaded cudf-cu12\n",
            " Downloaded shapely\n",
            " Downloaded datashader\n",
            " Downloaded pylibcugraph-cu12\n",
            " Downloaded dask\n",
            " Downloaded rmm-cu12\n",
            " Downloaded libkvikio-cu12\n",
            " Downloaded cugraph-cu12\n",
            " Downloaded ucx-py-cu12\n",
            " Downloaded bokeh\n",
            " Downloaded librmm-cu12\n",
            " Downloaded cuspatial-cu12\n",
            " Downloaded cuml-cu12\n",
            " Downloaded cucim-cu12\n",
            " Downloaded pylibcudf-cu12\n",
            " Downloaded libcuspatial-cu12\n",
            " Downloaded libraft-cu12\n",
            " Downloaded libcuml-cu12\n",
            " Downloaded raft-dask-cu12\n",
            " Downloaded libcudf-cu12\n",
            " Downloaded libcuvs-cu12\n",
            " Downloaded libcugraph-cu12\n",
            "Prepared 52 packages in 38.96s\n",
            "Uninstalled 29 packages in 755ms\n",
            "Installed 52 packages in 115ms\n",
            " + arrow==1.3.0\n",
            " - bokeh==3.7.3\n",
            " + bokeh==3.6.3\n",
            " + cucim-cu12==25.4.0\n",
            " - cudf-cu12==25.2.1 (from https://pypi.nvidia.com/cudf-cu12/cudf_cu12-25.2.1-cp311-cp311-manylinux_2_24_x86_64.manylinux_2_28_x86_64.whl)\n",
            " + cudf-cu12==25.4.0\n",
            " + cugraph-cu12==25.4.1\n",
            " - cuml-cu12==25.2.1\n",
            " + cuml-cu12==25.4.0\n",
            " + cuproj-cu12==25.4.0\n",
            " + cuspatial-cu12==25.4.0\n",
            " - cuvs-cu12==25.2.1\n",
            " + cuvs-cu12==25.4.0\n",
            " + cuxfilter-cu12==25.4.0\n",
            " - dask==2024.12.1\n",
            " + dask==2025.2.0\n",
            " - dask-cuda==25.2.0\n",
            " + dask-cuda==25.4.0\n",
            " - dask-cudf-cu12==25.2.2\n",
            " + dask-cudf-cu12==25.4.0\n",
            " + datashader==0.18.1\n",
            " - distributed==2024.12.1\n",
            " + distributed==2025.2.0\n",
            " - distributed-ucxx-cu12==0.42.0\n",
            " + distributed-ucxx-cu12==0.43.0\n",
            " + fqdn==1.5.1\n",
            " + isoduration==20.11.0\n",
            " - jupyter-client==6.1.12\n",
            " + jupyter-client==8.6.3\n",
            " + jupyter-events==0.12.0\n",
            " - jupyter-server==1.16.0\n",
            " + jupyter-server==2.16.0\n",
            " + jupyter-server-proxy==4.4.0\n",
            " + jupyter-server-terminals==0.5.3\n",
            " - libcudf-cu12==25.2.1 (from https://pypi.nvidia.com/libcudf-cu12/libcudf_cu12-25.2.1-py3-none-manylinux_2_28_x86_64.whl)\n",
            " + libcudf-cu12==25.4.0\n",
            " - libcugraph-cu12==25.2.0\n",
            " + libcugraph-cu12==25.4.1\n",
            " - libcuml-cu12==25.2.1\n",
            " + libcuml-cu12==25.4.0\n",
            " + libcuspatial-cu12==25.4.0\n",
            " - libcuvs-cu12==25.2.1\n",
            " + libcuvs-cu12==25.4.0\n",
            " - libkvikio-cu12==25.2.1\n",
            " + libkvikio-cu12==25.4.0\n",
            " - libraft-cu12==25.2.0\n",
            " + libraft-cu12==25.4.0\n",
            " + librmm-cu12==25.4.0\n",
            " - libucxx-cu12==0.42.0\n",
            " + libucxx-cu12==0.43.0\n",
            " - numba-cuda==0.2.0\n",
            " + numba-cuda==0.4.0\n",
            " - nx-cugraph-cu12==25.2.0 (from https://pypi.nvidia.com/nx-cugraph-cu12/nx_cugraph_cu12-25.2.0-py3-none-any.whl)\n",
            " + nx-cugraph-cu12==25.4.0\n",
            " + overrides==7.7.0\n",
            " + pyct==0.5.0\n",
            " - pylibcudf-cu12==25.2.1 (from https://pypi.nvidia.com/pylibcudf-cu12/pylibcudf_cu12-25.2.1-cp311-cp311-manylinux_2_24_x86_64.manylinux_2_28_x86_64.whl)\n",
            " + pylibcudf-cu12==25.4.0\n",
            " - pylibcugraph-cu12==25.2.0\n",
            " + pylibcugraph-cu12==25.4.1\n",
            " - pylibraft-cu12==25.2.0\n",
            " + pylibraft-cu12==25.4.0\n",
            " + python-json-logger==3.3.0\n",
            " - raft-dask-cu12==25.2.0\n",
            " + raft-dask-cu12==25.4.0\n",
            " - rapids-dask-dependency==25.2.0\n",
            " + rapids-dask-dependency==25.4.0\n",
            " + rapids-logger==0.1.1\n",
            " + rfc3339-validator==0.1.4\n",
            " + rfc3986-validator==0.1.1\n",
            " - rmm-cu12==25.2.0\n",
            " + rmm-cu12==25.4.0\n",
            " - shapely==2.1.0\n",
            " + shapely==2.0.7\n",
            " + simpervisor==1.0.0\n",
            " + types-python-dateutil==2.9.0.20250516\n",
            " - ucx-py-cu12==0.42.0\n",
            " + ucx-py-cu12==0.43.0\n",
            " - ucxx-cu12==0.42.0\n",
            " + ucxx-cu12==0.43.0\n",
            " + uri-template==1.3.0\n",
            "\n",
            "        ***********************************************************************\n",
            "        The pip install of RAPIDS is complete.\n",
            "\n",
            "        Please do not run any further installation from the conda based installation methods, as they may cause issues!\n",
            "\n",
            "        Please ensure that you're pulling from the git repo to remain updated with the latest working install scripts.\n",
            "\n",
            "        Troubleshooting:\n",
            "            - If there is an installation failure, please check back on RAPIDSAI owned templates/notebooks to see how to update your personal files.\n",
            "            - If an installation failure persists when using the latest script, please make an issue on https://github.com/rapidsai-community/rapidsai-csp-utils\n",
            "        ***********************************************************************\n",
            "        \n"
          ]
        }
      ]
    },
    {
      "cell_type": "markdown",
      "source": [
        "## Imports and initial setup"
      ],
      "metadata": {
        "id": "iEHn8ipk6EsI"
      }
    },
    {
      "cell_type": "code",
      "execution_count": 4,
      "metadata": {
        "colab": {
          "base_uri": "https://localhost:8080/"
        },
        "id": "XWA7RQGQ5ETD",
        "outputId": "4f15e4c9-9c88-4fc3-de98-55d2b46a489c"
      },
      "outputs": [
        {
          "output_type": "stream",
          "name": "stdout",
          "text": [
            "Mounted at /content/drive\n"
          ]
        }
      ],
      "source": [
        "import rmm, cupy as cp\n",
        "from rmm.allocators.cupy import rmm_cupy_allocator\n",
        "\n",
        "# ONE-TIME INITIALISATION: To allocate VRAM on GPU\n",
        "rmm.reinitialize(\n",
        "    pool_allocator=True,        # turn on pooled allocator\n",
        "    initial_pool_size=\"30GB\"     # grab about half the card up front\n",
        ")\n",
        "cp.cuda.set_allocator(rmm_cupy_allocator)\n",
        "import cudf\n",
        "cudf.set_option(\"spill\", True)   # allow GPU→CPU overspill\n",
        "from cuml.ensemble import RandomForestClassifier as cuRF\n",
        "from cuml.metrics import accuracy_score\n",
        "## from cuml.common import dtype_utils\n",
        "import tensorflow as tf\n",
        "from sklearn.model_selection import StratifiedKFold\n",
        "from sklearn.utils import class_weight\n",
        "import os, itertools, random, gc, time, json, pprint\n",
        "import numpy as np\n",
        "import pandas as pd\n",
        "from google.colab import drive\n",
        "drive.mount('/content/drive')\n",
        "\n",
        "# Ensuring TF does not use the GPU. We use\n",
        "# cuML to train our model.\n",
        "tf.config.set_visible_devices([], 'GPU')"
      ]
    },
    {
      "cell_type": "markdown",
      "metadata": {
        "id": "rFnGtURp78Ph"
      },
      "source": [
        "# Setup TF Record Parsing"
      ]
    },
    {
      "cell_type": "code",
      "execution_count": 5,
      "metadata": {
        "id": "iH2ov3Oj41d0"
      },
      "outputs": [],
      "source": [
        "\n",
        "# parse single tf record\n",
        "def parse_tfrecord(file):\n",
        "    feature_description={\n",
        "        'note' : tf.io.FixedLenFeature([], tf.int64),\n",
        "        'note_str' : tf.io.FixedLenFeature([], tf.string),\n",
        "        'instrument' : tf.io.FixedLenFeature([], tf.int64),\n",
        "        'instrument_str' : tf.io.FixedLenFeature([], tf.string),\n",
        "        'pitch': tf.io.FixedLenFeature([], tf.int64),\n",
        "        'velocity': tf.io.FixedLenFeature([], tf.int64),\n",
        "        'sample_rate': tf.io.FixedLenFeature([], tf.int64),\n",
        "        'audio': tf.io.FixedLenFeature([64000], tf.float32),\n",
        "        'qualities': tf.io.FixedLenFeature([10], tf.int64),\n",
        "        'qualities_str': tf.io.VarLenFeature(tf.string),\n",
        "        'instrument_family': tf.io.FixedLenFeature([], tf.int64),\n",
        "        'instrument_family_str': tf.io.FixedLenFeature([], tf.string),\n",
        "        'instrument_source': tf.io.FixedLenFeature([], tf.int64),\n",
        "        'instrument_source_str': tf.io.FixedLenFeature([], tf.string)\n",
        "    }\n",
        "\n",
        "    return tf.io.parse_single_example(file, feature_description)\n"
      ]
    },
    {
      "cell_type": "markdown",
      "metadata": {
        "id": "9YMYB1Jy7-SI"
      },
      "source": [
        "## Parsing TF Records, Saving Datasets"
      ]
    },
    {
      "cell_type": "markdown",
      "metadata": {
        "id": "_t7OQTuR8OTn"
      },
      "source": [
        "### Training TFRecord"
      ]
    },
    {
      "cell_type": "code",
      "execution_count": 6,
      "metadata": {
        "colab": {
          "base_uri": "https://localhost:8080/"
        },
        "id": "hGyt6bKN4IfB",
        "outputId": "38f514b5-eea6-41f9-9547-01e8217cc1a6"
      },
      "outputs": [
        {
          "output_type": "stream",
          "name": "stdout",
          "text": [
            "Example 1\n",
            "Note: 217495\n",
            "Instrument: bass_synthetic_018\n",
            "Instrument Family: bass\n",
            "Qualities: ['distortion', 'fast_decay', 'percussive']\n",
            "Example 2\n",
            "Note: 266066\n",
            "Instrument: bass_synthetic_018\n",
            "Instrument Family: bass\n",
            "Qualities: ['distortion', 'fast_decay', 'percussive']\n",
            "Example 3\n",
            "Note: 163673\n",
            "Instrument: bass_synthetic_018\n",
            "Instrument Family: bass\n",
            "Qualities: ['distortion', 'fast_decay']\n",
            "Example 4\n",
            "Note: 22459\n",
            "Instrument: bass_synthetic_018\n",
            "Instrument Family: bass\n",
            "Qualities: ['distortion', 'fast_decay']\n",
            "Example 5\n",
            "Note: 231254\n",
            "Instrument: bass_synthetic_018\n",
            "Instrument Family: bass\n",
            "Qualities: ['distortion', 'fast_decay']\n",
            "Example 6\n",
            "Note: 209097\n",
            "Instrument: bass_synthetic_018\n",
            "Instrument Family: bass\n",
            "Qualities: ['distortion', 'fast_decay', 'percussive']\n",
            "Example 7\n",
            "Note: 272473\n",
            "Instrument: bass_synthetic_018\n",
            "Instrument Family: bass\n",
            "Qualities: ['distortion', 'fast_decay', 'percussive']\n",
            "Example 8\n",
            "Note: 231913\n",
            "Instrument: bass_synthetic_018\n",
            "Instrument Family: bass\n",
            "Qualities: ['distortion', 'fast_decay']\n",
            "Example 9\n",
            "Note: 9771\n",
            "Instrument: bass_synthetic_018\n",
            "Instrument Family: bass\n",
            "Qualities: ['distortion', 'fast_decay']\n",
            "Example 10\n",
            "Note: 256832\n",
            "Instrument: bass_synthetic_018\n",
            "Instrument Family: bass\n",
            "Qualities: ['distortion', 'fast_decay']\n"
          ]
        }
      ],
      "source": [
        "# intake training dataset\n",
        "trainDS_raw = tf.data.TFRecordDataset(\"/content/drive/MyDrive/nsynth-train.tfrecord\")\n",
        "\n",
        "# map parsing function to dataset\n",
        "trainingDS = trainDS_raw.map(parse_tfrecord)\n",
        "\n",
        "# grab a few examples and examine them\n",
        "\n",
        "tenExamples = trainingDS.take(10)\n",
        "\n",
        "for i, example in enumerate(tenExamples):\n",
        "    print(f\"Example {i+1}\")\n",
        "    print(f\"Note: {example['note']}\")\n",
        "    instrument_bytes = example['instrument_str'].numpy()\n",
        "    print(f\"Instrument: {instrument_bytes.decode('utf-8')}\")\n",
        "    instrument_fam_bytes = example['instrument_family_str'].numpy()\n",
        "    print(f\"Instrument Family: {instrument_fam_bytes.decode('utf-8')}\")\n",
        "    qualities_str_list_bytes = example['qualities_str'].values\n",
        "    qualities_str_list = [value.decode('utf-8') for value in qualities_str_list_bytes.numpy()]\n",
        "    print(f\"Qualities: {qualities_str_list}\")\n"
      ]
    },
    {
      "cell_type": "markdown",
      "metadata": {
        "id": "bGtichnn60nr"
      },
      "source": [
        "## Validation TF Record"
      ]
    },
    {
      "cell_type": "code",
      "execution_count": 7,
      "metadata": {
        "colab": {
          "base_uri": "https://localhost:8080/"
        },
        "id": "dJYxxK6l4bSk",
        "outputId": "c7463ba3-9af9-4466-c084-c0f2c5b88980"
      },
      "outputs": [
        {
          "output_type": "stream",
          "name": "stdout",
          "text": [
            "Example 1\n",
            "Note: 245705\n",
            "Instrument: bass_synthetic_033\n",
            "Instrument Family: bass\n",
            "Qualities: []\n",
            "Example 2\n",
            "Note: 12195\n",
            "Instrument: bass_synthetic_033\n",
            "Instrument Family: bass\n",
            "Qualities: []\n",
            "Example 3\n",
            "Note: 150083\n",
            "Instrument: bass_synthetic_033\n",
            "Instrument Family: bass\n",
            "Qualities: []\n",
            "Example 4\n",
            "Note: 184598\n",
            "Instrument: bass_synthetic_033\n",
            "Instrument Family: bass\n",
            "Qualities: []\n",
            "Example 5\n",
            "Note: 255197\n",
            "Instrument: bass_synthetic_033\n",
            "Instrument Family: bass\n",
            "Qualities: []\n",
            "Example 6\n",
            "Note: 254092\n",
            "Instrument: bass_synthetic_033\n",
            "Instrument Family: bass\n",
            "Qualities: []\n",
            "Example 7\n",
            "Note: 167817\n",
            "Instrument: bass_synthetic_033\n",
            "Instrument Family: bass\n",
            "Qualities: []\n",
            "Example 8\n",
            "Note: 179327\n",
            "Instrument: bass_synthetic_033\n",
            "Instrument Family: bass\n",
            "Qualities: []\n",
            "Example 9\n",
            "Note: 140833\n",
            "Instrument: bass_synthetic_033\n",
            "Instrument Family: bass\n",
            "Qualities: []\n",
            "Example 10\n",
            "Note: 279694\n",
            "Instrument: bass_synthetic_033\n",
            "Instrument Family: bass\n",
            "Qualities: []\n"
          ]
        }
      ],
      "source": [
        "# intake validation TF Record\n",
        "\n",
        "validDS_raw = tf.data.TFRecordDataset(\"/content/drive/MyDrive/nsynth-valid.tfrecord\")\n",
        "\n",
        "# map parsing function to dataset\n",
        "validDS = validDS_raw.map(parse_tfrecord)\n",
        "\n",
        "# grab a few examples and examine them\n",
        "\n",
        "tenValidExamples = validDS.take(10)\n",
        "for i, example in enumerate(tenValidExamples):\n",
        "    print(f\"Example {i+1}\")\n",
        "    print(f\"Note: {example['note']}\")\n",
        "    instrument_bytes = example['instrument_str'].numpy()\n",
        "    print(f\"Instrument: {instrument_bytes.decode('utf-8')}\")\n",
        "    instrument_fam_bytes = example['instrument_family_str'].numpy()\n",
        "    print(f\"Instrument Family: {instrument_fam_bytes.decode('utf-8')}\")\n",
        "    qualities_str_list_bytes = example['qualities_str'].values\n",
        "    qualities_str_list = [value.decode('utf-8') for value in qualities_str_list_bytes.numpy()]\n",
        "    print(f\"Qualities: {qualities_str_list}\")\n"
      ]
    },
    {
      "cell_type": "markdown",
      "metadata": {
        "id": "ePYayrzb7H_T"
      },
      "source": [
        "## Establish features and target"
      ]
    },
    {
      "cell_type": "code",
      "execution_count": 8,
      "metadata": {
        "id": "9O8CQfuM4fr_"
      },
      "outputs": [],
      "source": [
        "# One-off helper: create a mel filterbank for 16 kHz audio\n",
        "SR        = 16000          # NSynth sample-rate in Hz\n",
        "FFT_SIZE  = 1024\n",
        "HOP       = 256\n",
        "N_MELS    = 128\n",
        "\n",
        "mel_mat = tf.signal.linear_to_mel_weight_matrix(\n",
        "    num_mel_bins   = N_MELS,\n",
        "    num_spectrogram_bins = FFT_SIZE // 2 + 1,\n",
        "    sample_rate    = SR,\n",
        "    lower_edge_hertz  = 30.0,\n",
        "    upper_edge_hertz  = SR/2.0\n",
        ")\n",
        "\n",
        "def summarise_mel(mel_spec):\n",
        "    \"\"\"Average over time axis -> shape (N_MELS,)\"\"\"\n",
        "    # log(1 + x) keeps dynamics but is always finite\n",
        "    return tf.math.log1p(tf.reduce_mean(mel_spec, axis=0))\n",
        "\n",
        "def tfrecord_to_vector(example):\n",
        "    # audio\n",
        "    audio = tf.cast(example['audio'], tf.float32)\n",
        "    audio = audio / (tf.reduce_max(tf.abs(audio)) + 1e-7) # simple normalisation\n",
        "\n",
        "    spec  = tf.signal.stft(audio, frame_length=FFT_SIZE, frame_step=HOP)\n",
        "    mag   = tf.abs(spec)\n",
        "    mel   = tf.matmul(mag, mel_mat) # (time, mel)\n",
        "    mel   = summarise_mel(mel) # (128,)\n",
        "\n",
        "    # build feature vector\n",
        "    features = tf.concat([\n",
        "        tf.cast([example['note'],\n",
        "                 example['pitch'],\n",
        "                 example['velocity'],\n",
        "                 example['sample_rate'],\n",
        "                 example['instrument_source']], tf.float32),\n",
        "        mel                                           # 128-D\n",
        "    ], axis=0)\n",
        "\n",
        "    return {\n",
        "        'x': features, # float32 [133]\n",
        "        'y': example['instrument_family'] # int64   []\n",
        "    }\n"
      ]
    },
    {
      "cell_type": "markdown",
      "metadata": {
        "id": "rJGR1KQv7SZz"
      },
      "source": [
        "## Get Record Counts"
      ]
    },
    {
      "cell_type": "code",
      "execution_count": 9,
      "metadata": {
        "id": "TFq0hOeB7T-c",
        "colab": {
          "base_uri": "https://localhost:8080/"
        },
        "outputId": "d58f5336-d2c7-48a1-f833-fd211d28155a"
      },
      "outputs": [
        {
          "output_type": "stream",
          "name": "stdout",
          "text": [
            "Total Training Records: 289205\n",
            "Total Validation Records: 12678\n"
          ]
        }
      ],
      "source": [
        "totalTrainRecs = 289205\n",
        "totalValidRecs = 12678\n",
        "\n",
        "# commented out because it takes FOREVER\n",
        "# actual totals pulled from n-synth dataset website\n",
        "#for _ in trainingDS:\n",
        "#  totalTrainRecs += 1\n",
        "\n",
        "#for _ in validDS:\n",
        "#  totalValidRecs += 1\n",
        "\n",
        "print(f\"Total Training Records: {totalTrainRecs}\")\n",
        "print(f\"Total Validation Records: {totalValidRecs}\")"
      ]
    },
    {
      "cell_type": "markdown",
      "metadata": {
        "id": "2Ark6nZS7YZT"
      },
      "source": [
        "## Preprocessing Training Data"
      ]
    },
    {
      "cell_type": "code",
      "execution_count": 10,
      "metadata": {
        "id": "Oz-sRkYf7a6h"
      },
      "outputs": [],
      "source": [
        "import math\n",
        "import pyarrow as pa, pyarrow.parquet as pq  # needed by pandas.to_parquet\n",
        "\n",
        "OUT_DIR = \"/content/drive/MyDrive/NSynth/nsynth_parquet\"\n",
        "os.makedirs(OUT_DIR, exist_ok=True)\n",
        "\n",
        "from tqdm.auto import tqdm\n",
        "\n",
        "\n",
        "TRAIN_RECS = 289_205   # ← hard-coded counts from the NSynth docs\n",
        "VALID_RECS = 12_678\n",
        "BATCH      = 2048\n",
        "\n",
        "def write_split(ds_raw, split_name, total_records, batch=BATCH):\n",
        "    \"\"\"\n",
        "    Stream TFRecord → TF → Parquet with < 300 MB peak RAM.\n",
        "    Creates ONE parquet file by appending each batch with pyarrow.\n",
        "    \"\"\"\n",
        "    ds_vec = (ds_raw\n",
        "              .map(parse_tfrecord, num_parallel_calls=tf.data.AUTOTUNE)\n",
        "              .map(tfrecord_to_vector, num_parallel_calls=tf.data.AUTOTUNE)\n",
        "              .batch(batch)\n",
        "              .prefetch(tf.data.AUTOTUNE))\n",
        "\n",
        "    total_batches = math.ceil(total_records / batch)\n",
        "    writer = None # will be initialised on 1st batch\n",
        "\n",
        "    # Initiallize our progress bar for splitting\n",
        "    for batch_dict in tqdm(ds_vec, total=total_batches,\n",
        "                           desc=f\"Converting {split_name}\"):\n",
        "        X = batch_dict['x'].numpy()\n",
        "        y = batch_dict['y'].numpy().astype(np.int16)\n",
        "\n",
        "        df_batch = pd.DataFrame(\n",
        "            X, columns=[f\"feat_{i}\" for i in range(X.shape[1])]\n",
        "        ).assign(y=y)\n",
        "\n",
        "        # Convert to Arrow table and append\n",
        "        table = pa.Table.from_pandas(df_batch, preserve_index=False)\n",
        "        if writer is None:                            # first batch → create file\n",
        "            writer = pq.ParquetWriter(f\"{OUT_DIR}/{split_name}.parquet\",\n",
        "                                       table.schema,\n",
        "                                       compression=\"snappy\")\n",
        "        writer.write_table(table)\n",
        "\n",
        "        del df_batch, table, X, y; gc.collect()\n",
        "\n",
        "    if writer is not None:\n",
        "        writer.close()\n",
        "    print(f\"✓ Wrote {split_name}.parquet  ({total_records:,} rows)\")\n"
      ]
    },
    {
      "cell_type": "markdown",
      "source": [
        "## Split and Make Into Parquet"
      ],
      "metadata": {
        "id": "g76MAodl_pqx"
      }
    },
    {
      "cell_type": "code",
      "source": [
        "write_split(trainDS_raw, \"train\", TRAIN_RECS)\n",
        "write_split(validDS_raw, \"valid\", VALID_RECS)"
      ],
      "metadata": {
        "id": "urVTnHDR_wHQ",
        "colab": {
          "base_uri": "https://localhost:8080/",
          "height": 118,
          "referenced_widgets": [
            "b8af9d99d31d43e799a1dbb07e7af0b5",
            "8f8fc7f359da4c21a93f5f2456c4eb63",
            "35ceb1db30c643659ace94d7daed72f7",
            "0ff21c4a69b945a1bc6c5db07b5c4e91",
            "607dca3e13b24f15ad8b6e12529f9a74",
            "3dbd000502ae4906be1ccb670f247390",
            "b7a92431f674434db078130e64d056d0",
            "a56a2ccc98d148e6a67ac5309bc73ece",
            "e5b02343c41d4bc38c019d3d40ad87bb",
            "0f80302763e949d3b705c0a70a1de972",
            "1314bfd05ae344b8a718abbeec6648d3",
            "aa223d4838754a20834d7fed2d5fc286",
            "034cba2afbd8421d93d45d41c2faaec6",
            "eddad16d75bd43308f8800665091412a",
            "34b83067d2a14f5abdfaf1fcd2e483e0",
            "045f569ffc73445bb5363666d602fd86",
            "e5380c20ece44e52b3aad6e4f7503ad4",
            "f6e75112bdbb4ce09534266243bd9dc1",
            "ff524e3f09f64f30b0917aeffc5519e6",
            "87a2394a7c4a45f7a49124749a594f03",
            "e5d7afbf182d41c88131fa199f1c4eca",
            "fad1d2aaba6c4e5c8a4a9c32d5044ba0"
          ]
        },
        "outputId": "85fed622-e774-4e5d-f93f-b4bedd8bb7b1"
      },
      "execution_count": 11,
      "outputs": [
        {
          "output_type": "display_data",
          "data": {
            "text/plain": [
              "Converting train:   0%|          | 0/142 [00:00<?, ?it/s]"
            ],
            "application/vnd.jupyter.widget-view+json": {
              "version_major": 2,
              "version_minor": 0,
              "model_id": "b8af9d99d31d43e799a1dbb07e7af0b5"
            }
          },
          "metadata": {}
        },
        {
          "output_type": "stream",
          "name": "stdout",
          "text": [
            "✓ Wrote train.parquet  (289,205 rows)\n"
          ]
        },
        {
          "output_type": "display_data",
          "data": {
            "text/plain": [
              "Converting valid:   0%|          | 0/7 [00:00<?, ?it/s]"
            ],
            "application/vnd.jupyter.widget-view+json": {
              "version_major": 2,
              "version_minor": 0,
              "model_id": "aa223d4838754a20834d7fed2d5fc286"
            }
          },
          "metadata": {}
        },
        {
          "output_type": "stream",
          "name": "stdout",
          "text": [
            "✓ Wrote valid.parquet  (12,678 rows)\n"
          ]
        }
      ]
    },
    {
      "cell_type": "markdown",
      "source": [
        "## Preparing the training data"
      ],
      "metadata": {
        "id": "24thpE85K0OQ"
      }
    },
    {
      "cell_type": "code",
      "source": [
        "# Read in the \"train\" and \"validate\" parquets\n",
        "train_gdf = cudf.read_parquet(f\"{OUT_DIR}/train.parquet\")\n",
        "valid_gdf = cudf.read_parquet(f\"{OUT_DIR}/valid.parquet\")\n",
        "\n",
        "# cuML expects 0-based ints, so we have to factorize\n",
        "y_train_codes, y_uniques = cudf.factorize(train_gdf[\"y\"], sort=False)\n",
        "y_valid_codes = y_uniques.get_indexer(valid_gdf[\"y\"]).astype(\"int32\")  # unseen = -1\n",
        "\n",
        "# Verify 11 classes in 'instrument_family' for y\n",
        "print(\"Verify 11 classes:\", y_uniques.size)\n",
        "\n",
        "# Need to get rid of y from feature sets\n",
        "X_train = train_gdf.drop(columns=\"y\").astype(\"float32\") # cuML needs float32\n",
        "X_valid = valid_gdf.drop(columns=\"y\").astype(\"float32\")\n",
        "\n",
        "X_train_cu = X_train.to_cupy() # (289 205, 133) float32\n",
        "y_train_cu = cp.asarray(y_train_codes) # (289 205,) int32\n",
        "X_valid_cu = X_valid.to_cupy()\n",
        "y_valid_cu = cp.asarray(y_valid_codes)\n",
        "y_np = cp.asnumpy(y_train_cu)\n",
        "\n",
        "del train_gdf, valid_gdf, X_train\n",
        "gc.collect()\n",
        "cp.cuda.Device(0).synchronize()\n",
        "cp.get_default_memory_pool().free_all_blocks()\n",
        "\n",
        "# Indexing for categorical features\n",
        "cat_idx = list(range(5)) # note, pitch, velocity, sr, inst_source\n",
        "\n",
        "\n"
      ],
      "metadata": {
        "id": "3w3QV0VoDtL5",
        "colab": {
          "base_uri": "https://localhost:8080/"
        },
        "outputId": "bffab628-fa0d-4a65-f925-45deb5f6a211"
      },
      "execution_count": 12,
      "outputs": [
        {
          "output_type": "stream",
          "name": "stdout",
          "text": [
            "Verify 11 classes: 11\n"
          ]
        }
      ]
    },
    {
      "cell_type": "markdown",
      "source": [
        "## Training the base model"
      ],
      "metadata": {
        "id": "4B8c0jauKuWe"
      }
    },
    {
      "cell_type": "code",
      "source": [
        "# Initialize classifier with basic hyper-params\n",
        "rf_gpu = cuRF(\n",
        "    n_estimators = 64,\n",
        "    max_depth    = 12,\n",
        "    n_bins       = 8,\n",
        "    n_streams    = 6, ###1\n",
        "    rows_sample  = 0.5,\n",
        "    max_features = 0.5,\n",
        "    split_algo   = \"GLOBAL_QUANTILE\",\n",
        "    bootstrap    = True,\n",
        "    random_state = 42,\n",
        ")\n",
        "\n",
        "# Train our RF classifier\n",
        "rf_gpu.fit(X_train_cu, y_train_cu)\n"
      ],
      "metadata": {
        "id": "mGQbSpdPDzua",
        "colab": {
          "base_uri": "https://localhost:8080/",
          "height": 137
        },
        "outputId": "8f65fbce-f654-4894-e489-edc4c9098501"
      },
      "execution_count": 13,
      "outputs": [
        {
          "output_type": "stream",
          "name": "stderr",
          "text": [
            "/usr/local/lib/python3.11/dist-packages/cuml/internals/api_decorators.py:317: UserWarning: For reproducible results in Random Forest Classifier or for almost reproducible results in Random Forest Regressor, n_streams=1 is recommended. If n_streams is > 1, results may vary due to stream/thread timing differences, even when random_state is set\n",
            "  return init_func(self, *args, **kwargs)\n"
          ]
        },
        {
          "output_type": "execute_result",
          "data": {
            "text/plain": [
              "RandomForestClassifier()"
            ],
            "text/html": [
              "<style>#sk-container-id-1 {\n",
              "  /* Definition of color scheme common for light and dark mode */\n",
              "  --sklearn-color-text: #000;\n",
              "  --sklearn-color-text-muted: #666;\n",
              "  --sklearn-color-line: gray;\n",
              "  /* Definition of color scheme for unfitted estimators */\n",
              "  --sklearn-color-unfitted-level-0: #fff5e6;\n",
              "  --sklearn-color-unfitted-level-1: #f6e4d2;\n",
              "  --sklearn-color-unfitted-level-2: #ffe0b3;\n",
              "  --sklearn-color-unfitted-level-3: chocolate;\n",
              "  /* Definition of color scheme for fitted estimators */\n",
              "  --sklearn-color-fitted-level-0: #f0f8ff;\n",
              "  --sklearn-color-fitted-level-1: #d4ebff;\n",
              "  --sklearn-color-fitted-level-2: #b3dbfd;\n",
              "  --sklearn-color-fitted-level-3: cornflowerblue;\n",
              "\n",
              "  /* Specific color for light theme */\n",
              "  --sklearn-color-text-on-default-background: var(--sg-text-color, var(--theme-code-foreground, var(--jp-content-font-color1, black)));\n",
              "  --sklearn-color-background: var(--sg-background-color, var(--theme-background, var(--jp-layout-color0, white)));\n",
              "  --sklearn-color-border-box: var(--sg-text-color, var(--theme-code-foreground, var(--jp-content-font-color1, black)));\n",
              "  --sklearn-color-icon: #696969;\n",
              "\n",
              "  @media (prefers-color-scheme: dark) {\n",
              "    /* Redefinition of color scheme for dark theme */\n",
              "    --sklearn-color-text-on-default-background: var(--sg-text-color, var(--theme-code-foreground, var(--jp-content-font-color1, white)));\n",
              "    --sklearn-color-background: var(--sg-background-color, var(--theme-background, var(--jp-layout-color0, #111)));\n",
              "    --sklearn-color-border-box: var(--sg-text-color, var(--theme-code-foreground, var(--jp-content-font-color1, white)));\n",
              "    --sklearn-color-icon: #878787;\n",
              "  }\n",
              "}\n",
              "\n",
              "#sk-container-id-1 {\n",
              "  color: var(--sklearn-color-text);\n",
              "}\n",
              "\n",
              "#sk-container-id-1 pre {\n",
              "  padding: 0;\n",
              "}\n",
              "\n",
              "#sk-container-id-1 input.sk-hidden--visually {\n",
              "  border: 0;\n",
              "  clip: rect(1px 1px 1px 1px);\n",
              "  clip: rect(1px, 1px, 1px, 1px);\n",
              "  height: 1px;\n",
              "  margin: -1px;\n",
              "  overflow: hidden;\n",
              "  padding: 0;\n",
              "  position: absolute;\n",
              "  width: 1px;\n",
              "}\n",
              "\n",
              "#sk-container-id-1 div.sk-dashed-wrapped {\n",
              "  border: 1px dashed var(--sklearn-color-line);\n",
              "  margin: 0 0.4em 0.5em 0.4em;\n",
              "  box-sizing: border-box;\n",
              "  padding-bottom: 0.4em;\n",
              "  background-color: var(--sklearn-color-background);\n",
              "}\n",
              "\n",
              "#sk-container-id-1 div.sk-container {\n",
              "  /* jupyter's `normalize.less` sets `[hidden] { display: none; }`\n",
              "     but bootstrap.min.css set `[hidden] { display: none !important; }`\n",
              "     so we also need the `!important` here to be able to override the\n",
              "     default hidden behavior on the sphinx rendered scikit-learn.org.\n",
              "     See: https://github.com/scikit-learn/scikit-learn/issues/21755 */\n",
              "  display: inline-block !important;\n",
              "  position: relative;\n",
              "}\n",
              "\n",
              "#sk-container-id-1 div.sk-text-repr-fallback {\n",
              "  display: none;\n",
              "}\n",
              "\n",
              "div.sk-parallel-item,\n",
              "div.sk-serial,\n",
              "div.sk-item {\n",
              "  /* draw centered vertical line to link estimators */\n",
              "  background-image: linear-gradient(var(--sklearn-color-text-on-default-background), var(--sklearn-color-text-on-default-background));\n",
              "  background-size: 2px 100%;\n",
              "  background-repeat: no-repeat;\n",
              "  background-position: center center;\n",
              "}\n",
              "\n",
              "/* Parallel-specific style estimator block */\n",
              "\n",
              "#sk-container-id-1 div.sk-parallel-item::after {\n",
              "  content: \"\";\n",
              "  width: 100%;\n",
              "  border-bottom: 2px solid var(--sklearn-color-text-on-default-background);\n",
              "  flex-grow: 1;\n",
              "}\n",
              "\n",
              "#sk-container-id-1 div.sk-parallel {\n",
              "  display: flex;\n",
              "  align-items: stretch;\n",
              "  justify-content: center;\n",
              "  background-color: var(--sklearn-color-background);\n",
              "  position: relative;\n",
              "}\n",
              "\n",
              "#sk-container-id-1 div.sk-parallel-item {\n",
              "  display: flex;\n",
              "  flex-direction: column;\n",
              "}\n",
              "\n",
              "#sk-container-id-1 div.sk-parallel-item:first-child::after {\n",
              "  align-self: flex-end;\n",
              "  width: 50%;\n",
              "}\n",
              "\n",
              "#sk-container-id-1 div.sk-parallel-item:last-child::after {\n",
              "  align-self: flex-start;\n",
              "  width: 50%;\n",
              "}\n",
              "\n",
              "#sk-container-id-1 div.sk-parallel-item:only-child::after {\n",
              "  width: 0;\n",
              "}\n",
              "\n",
              "/* Serial-specific style estimator block */\n",
              "\n",
              "#sk-container-id-1 div.sk-serial {\n",
              "  display: flex;\n",
              "  flex-direction: column;\n",
              "  align-items: center;\n",
              "  background-color: var(--sklearn-color-background);\n",
              "  padding-right: 1em;\n",
              "  padding-left: 1em;\n",
              "}\n",
              "\n",
              "\n",
              "/* Toggleable style: style used for estimator/Pipeline/ColumnTransformer box that is\n",
              "clickable and can be expanded/collapsed.\n",
              "- Pipeline and ColumnTransformer use this feature and define the default style\n",
              "- Estimators will overwrite some part of the style using the `sk-estimator` class\n",
              "*/\n",
              "\n",
              "/* Pipeline and ColumnTransformer style (default) */\n",
              "\n",
              "#sk-container-id-1 div.sk-toggleable {\n",
              "  /* Default theme specific background. It is overwritten whether we have a\n",
              "  specific estimator or a Pipeline/ColumnTransformer */\n",
              "  background-color: var(--sklearn-color-background);\n",
              "}\n",
              "\n",
              "/* Toggleable label */\n",
              "#sk-container-id-1 label.sk-toggleable__label {\n",
              "  cursor: pointer;\n",
              "  display: flex;\n",
              "  width: 100%;\n",
              "  margin-bottom: 0;\n",
              "  padding: 0.5em;\n",
              "  box-sizing: border-box;\n",
              "  text-align: center;\n",
              "  align-items: start;\n",
              "  justify-content: space-between;\n",
              "  gap: 0.5em;\n",
              "}\n",
              "\n",
              "#sk-container-id-1 label.sk-toggleable__label .caption {\n",
              "  font-size: 0.6rem;\n",
              "  font-weight: lighter;\n",
              "  color: var(--sklearn-color-text-muted);\n",
              "}\n",
              "\n",
              "#sk-container-id-1 label.sk-toggleable__label-arrow:before {\n",
              "  /* Arrow on the left of the label */\n",
              "  content: \"▸\";\n",
              "  float: left;\n",
              "  margin-right: 0.25em;\n",
              "  color: var(--sklearn-color-icon);\n",
              "}\n",
              "\n",
              "#sk-container-id-1 label.sk-toggleable__label-arrow:hover:before {\n",
              "  color: var(--sklearn-color-text);\n",
              "}\n",
              "\n",
              "/* Toggleable content - dropdown */\n",
              "\n",
              "#sk-container-id-1 div.sk-toggleable__content {\n",
              "  max-height: 0;\n",
              "  max-width: 0;\n",
              "  overflow: hidden;\n",
              "  text-align: left;\n",
              "  /* unfitted */\n",
              "  background-color: var(--sklearn-color-unfitted-level-0);\n",
              "}\n",
              "\n",
              "#sk-container-id-1 div.sk-toggleable__content.fitted {\n",
              "  /* fitted */\n",
              "  background-color: var(--sklearn-color-fitted-level-0);\n",
              "}\n",
              "\n",
              "#sk-container-id-1 div.sk-toggleable__content pre {\n",
              "  margin: 0.2em;\n",
              "  border-radius: 0.25em;\n",
              "  color: var(--sklearn-color-text);\n",
              "  /* unfitted */\n",
              "  background-color: var(--sklearn-color-unfitted-level-0);\n",
              "}\n",
              "\n",
              "#sk-container-id-1 div.sk-toggleable__content.fitted pre {\n",
              "  /* unfitted */\n",
              "  background-color: var(--sklearn-color-fitted-level-0);\n",
              "}\n",
              "\n",
              "#sk-container-id-1 input.sk-toggleable__control:checked~div.sk-toggleable__content {\n",
              "  /* Expand drop-down */\n",
              "  max-height: 200px;\n",
              "  max-width: 100%;\n",
              "  overflow: auto;\n",
              "}\n",
              "\n",
              "#sk-container-id-1 input.sk-toggleable__control:checked~label.sk-toggleable__label-arrow:before {\n",
              "  content: \"▾\";\n",
              "}\n",
              "\n",
              "/* Pipeline/ColumnTransformer-specific style */\n",
              "\n",
              "#sk-container-id-1 div.sk-label input.sk-toggleable__control:checked~label.sk-toggleable__label {\n",
              "  color: var(--sklearn-color-text);\n",
              "  background-color: var(--sklearn-color-unfitted-level-2);\n",
              "}\n",
              "\n",
              "#sk-container-id-1 div.sk-label.fitted input.sk-toggleable__control:checked~label.sk-toggleable__label {\n",
              "  background-color: var(--sklearn-color-fitted-level-2);\n",
              "}\n",
              "\n",
              "/* Estimator-specific style */\n",
              "\n",
              "/* Colorize estimator box */\n",
              "#sk-container-id-1 div.sk-estimator input.sk-toggleable__control:checked~label.sk-toggleable__label {\n",
              "  /* unfitted */\n",
              "  background-color: var(--sklearn-color-unfitted-level-2);\n",
              "}\n",
              "\n",
              "#sk-container-id-1 div.sk-estimator.fitted input.sk-toggleable__control:checked~label.sk-toggleable__label {\n",
              "  /* fitted */\n",
              "  background-color: var(--sklearn-color-fitted-level-2);\n",
              "}\n",
              "\n",
              "#sk-container-id-1 div.sk-label label.sk-toggleable__label,\n",
              "#sk-container-id-1 div.sk-label label {\n",
              "  /* The background is the default theme color */\n",
              "  color: var(--sklearn-color-text-on-default-background);\n",
              "}\n",
              "\n",
              "/* On hover, darken the color of the background */\n",
              "#sk-container-id-1 div.sk-label:hover label.sk-toggleable__label {\n",
              "  color: var(--sklearn-color-text);\n",
              "  background-color: var(--sklearn-color-unfitted-level-2);\n",
              "}\n",
              "\n",
              "/* Label box, darken color on hover, fitted */\n",
              "#sk-container-id-1 div.sk-label.fitted:hover label.sk-toggleable__label.fitted {\n",
              "  color: var(--sklearn-color-text);\n",
              "  background-color: var(--sklearn-color-fitted-level-2);\n",
              "}\n",
              "\n",
              "/* Estimator label */\n",
              "\n",
              "#sk-container-id-1 div.sk-label label {\n",
              "  font-family: monospace;\n",
              "  font-weight: bold;\n",
              "  display: inline-block;\n",
              "  line-height: 1.2em;\n",
              "}\n",
              "\n",
              "#sk-container-id-1 div.sk-label-container {\n",
              "  text-align: center;\n",
              "}\n",
              "\n",
              "/* Estimator-specific */\n",
              "#sk-container-id-1 div.sk-estimator {\n",
              "  font-family: monospace;\n",
              "  border: 1px dotted var(--sklearn-color-border-box);\n",
              "  border-radius: 0.25em;\n",
              "  box-sizing: border-box;\n",
              "  margin-bottom: 0.5em;\n",
              "  /* unfitted */\n",
              "  background-color: var(--sklearn-color-unfitted-level-0);\n",
              "}\n",
              "\n",
              "#sk-container-id-1 div.sk-estimator.fitted {\n",
              "  /* fitted */\n",
              "  background-color: var(--sklearn-color-fitted-level-0);\n",
              "}\n",
              "\n",
              "/* on hover */\n",
              "#sk-container-id-1 div.sk-estimator:hover {\n",
              "  /* unfitted */\n",
              "  background-color: var(--sklearn-color-unfitted-level-2);\n",
              "}\n",
              "\n",
              "#sk-container-id-1 div.sk-estimator.fitted:hover {\n",
              "  /* fitted */\n",
              "  background-color: var(--sklearn-color-fitted-level-2);\n",
              "}\n",
              "\n",
              "/* Specification for estimator info (e.g. \"i\" and \"?\") */\n",
              "\n",
              "/* Common style for \"i\" and \"?\" */\n",
              "\n",
              ".sk-estimator-doc-link,\n",
              "a:link.sk-estimator-doc-link,\n",
              "a:visited.sk-estimator-doc-link {\n",
              "  float: right;\n",
              "  font-size: smaller;\n",
              "  line-height: 1em;\n",
              "  font-family: monospace;\n",
              "  background-color: var(--sklearn-color-background);\n",
              "  border-radius: 1em;\n",
              "  height: 1em;\n",
              "  width: 1em;\n",
              "  text-decoration: none !important;\n",
              "  margin-left: 0.5em;\n",
              "  text-align: center;\n",
              "  /* unfitted */\n",
              "  border: var(--sklearn-color-unfitted-level-1) 1pt solid;\n",
              "  color: var(--sklearn-color-unfitted-level-1);\n",
              "}\n",
              "\n",
              ".sk-estimator-doc-link.fitted,\n",
              "a:link.sk-estimator-doc-link.fitted,\n",
              "a:visited.sk-estimator-doc-link.fitted {\n",
              "  /* fitted */\n",
              "  border: var(--sklearn-color-fitted-level-1) 1pt solid;\n",
              "  color: var(--sklearn-color-fitted-level-1);\n",
              "}\n",
              "\n",
              "/* On hover */\n",
              "div.sk-estimator:hover .sk-estimator-doc-link:hover,\n",
              ".sk-estimator-doc-link:hover,\n",
              "div.sk-label-container:hover .sk-estimator-doc-link:hover,\n",
              ".sk-estimator-doc-link:hover {\n",
              "  /* unfitted */\n",
              "  background-color: var(--sklearn-color-unfitted-level-3);\n",
              "  color: var(--sklearn-color-background);\n",
              "  text-decoration: none;\n",
              "}\n",
              "\n",
              "div.sk-estimator.fitted:hover .sk-estimator-doc-link.fitted:hover,\n",
              ".sk-estimator-doc-link.fitted:hover,\n",
              "div.sk-label-container:hover .sk-estimator-doc-link.fitted:hover,\n",
              ".sk-estimator-doc-link.fitted:hover {\n",
              "  /* fitted */\n",
              "  background-color: var(--sklearn-color-fitted-level-3);\n",
              "  color: var(--sklearn-color-background);\n",
              "  text-decoration: none;\n",
              "}\n",
              "\n",
              "/* Span, style for the box shown on hovering the info icon */\n",
              ".sk-estimator-doc-link span {\n",
              "  display: none;\n",
              "  z-index: 9999;\n",
              "  position: relative;\n",
              "  font-weight: normal;\n",
              "  right: .2ex;\n",
              "  padding: .5ex;\n",
              "  margin: .5ex;\n",
              "  width: min-content;\n",
              "  min-width: 20ex;\n",
              "  max-width: 50ex;\n",
              "  color: var(--sklearn-color-text);\n",
              "  box-shadow: 2pt 2pt 4pt #999;\n",
              "  /* unfitted */\n",
              "  background: var(--sklearn-color-unfitted-level-0);\n",
              "  border: .5pt solid var(--sklearn-color-unfitted-level-3);\n",
              "}\n",
              "\n",
              ".sk-estimator-doc-link.fitted span {\n",
              "  /* fitted */\n",
              "  background: var(--sklearn-color-fitted-level-0);\n",
              "  border: var(--sklearn-color-fitted-level-3);\n",
              "}\n",
              "\n",
              ".sk-estimator-doc-link:hover span {\n",
              "  display: block;\n",
              "}\n",
              "\n",
              "/* \"?\"-specific style due to the `<a>` HTML tag */\n",
              "\n",
              "#sk-container-id-1 a.estimator_doc_link {\n",
              "  float: right;\n",
              "  font-size: 1rem;\n",
              "  line-height: 1em;\n",
              "  font-family: monospace;\n",
              "  background-color: var(--sklearn-color-background);\n",
              "  border-radius: 1rem;\n",
              "  height: 1rem;\n",
              "  width: 1rem;\n",
              "  text-decoration: none;\n",
              "  /* unfitted */\n",
              "  color: var(--sklearn-color-unfitted-level-1);\n",
              "  border: var(--sklearn-color-unfitted-level-1) 1pt solid;\n",
              "}\n",
              "\n",
              "#sk-container-id-1 a.estimator_doc_link.fitted {\n",
              "  /* fitted */\n",
              "  border: var(--sklearn-color-fitted-level-1) 1pt solid;\n",
              "  color: var(--sklearn-color-fitted-level-1);\n",
              "}\n",
              "\n",
              "/* On hover */\n",
              "#sk-container-id-1 a.estimator_doc_link:hover {\n",
              "  /* unfitted */\n",
              "  background-color: var(--sklearn-color-unfitted-level-3);\n",
              "  color: var(--sklearn-color-background);\n",
              "  text-decoration: none;\n",
              "}\n",
              "\n",
              "#sk-container-id-1 a.estimator_doc_link.fitted:hover {\n",
              "  /* fitted */\n",
              "  background-color: var(--sklearn-color-fitted-level-3);\n",
              "}\n",
              "</style><div id=\"sk-container-id-1\" class=\"sk-top-container\"><div class=\"sk-text-repr-fallback\"><pre>RandomForestClassifier()</pre><b>In a Jupyter environment, please rerun this cell to show the HTML representation or trust the notebook. <br />On GitHub, the HTML representation is unable to render, please try loading this page with nbviewer.org.</b></div><div class=\"sk-container\" hidden><div class=\"sk-item\"><div class=\"sk-estimator fitted sk-toggleable\"><input class=\"sk-toggleable__control sk-hidden--visually\" id=\"sk-estimator-id-1\" type=\"checkbox\" checked><label for=\"sk-estimator-id-1\" class=\"sk-toggleable__label fitted sk-toggleable__label-arrow\"><div><div>RandomForestClassifier</div></div><div><span class=\"sk-estimator-doc-link fitted\">i<span>Fitted</span></span></div></label><div class=\"sk-toggleable__content fitted\"><pre>RandomForestClassifier()</pre></div> </div></div></div></div>"
            ]
          },
          "metadata": {},
          "execution_count": 13
        }
      ]
    },
    {
      "cell_type": "markdown",
      "source": [
        "# Testing and evaluation"
      ],
      "metadata": {
        "id": "nERD2N7eP6Mv"
      }
    },
    {
      "cell_type": "code",
      "source": [
        "from sklearn.metrics import (\n",
        "    f1_score, precision_recall_fscore_support,\n",
        "    confusion_matrix, ConfusionMatrixDisplay, top_k_accuracy_score\n",
        ")\n",
        "\n",
        "# Test on validation set\n",
        "y_pred = rf_gpu.predict(X_valid_cu)\n",
        "\n",
        "# 1) Accuracy\n",
        "acc = float(accuracy_score(y_valid_cu, y_pred))\n",
        "print(f\"Accuracy : {acc:.3%} {y_uniques.size}\")\n",
        "\n",
        "# 2) Macro-F1  (sklearn works on CPU, so bring arrays back)\n",
        "macro_f1 = f1_score(cp.asnumpy(y_valid_cu),\n",
        "                    cp.asnumpy(y_pred),\n",
        "                    average=\"macro\")\n",
        "print(f\"Macro F1 : {macro_f1:.3f}\")\n",
        "\n",
        "# 3) Top-3 accuracy\n",
        "all_labels = np.arange(y_uniques.size)\n",
        "proba = rf_gpu.predict_proba(X_valid_cu)        # GPU array (N, 11)\n",
        "top3  = top_k_accuracy_score(cp.asnumpy(y_valid_cu),\n",
        "                             cp.asnumpy(proba),\n",
        "                             k=3,\n",
        "                             labels=all_labels)\n",
        "print(f\"Top-3 Acc: {top3:.3%}\")"
      ],
      "metadata": {
        "id": "m39yn0dJP738",
        "colab": {
          "base_uri": "https://localhost:8080/"
        },
        "outputId": "b703d0db-f651-4092-877a-9863c4506fe9"
      },
      "execution_count": 14,
      "outputs": [
        {
          "output_type": "stream",
          "name": "stdout",
          "text": [
            "Accuracy : 64.758% 11\n",
            "Macro F1 : 0.556\n",
            "Top-3 Acc: 93.193%\n"
          ]
        }
      ]
    },
    {
      "cell_type": "markdown",
      "source": [
        "## Saving the base model"
      ],
      "metadata": {
        "id": "PV5B4HCkKbys"
      }
    },
    {
      "cell_type": "code",
      "source": [
        "# Save the trained base model\n",
        "import joblib\n",
        "model_path = \"/content/drive/MyDrive/NSynth/models/nsynth_cuml_rf_base.joblib\"\n",
        "os.makedirs(os.path.dirname(model_path), exist_ok=True)\n",
        "joblib.dump(rf_gpu, model_path)\n",
        "print(\"Saved model to:\", model_path)\n",
        "\n",
        "del rf_gpu\n",
        "gc.collect()\n",
        "cp.cuda.Device(0).synchronize()\n",
        "cp.get_default_memory_pool().free_all_blocks()"
      ],
      "metadata": {
        "id": "Z61Pm8VXZk-i",
        "colab": {
          "base_uri": "https://localhost:8080/"
        },
        "outputId": "87f3b1e6-e212-4d41-90b7-d01d7611ad79"
      },
      "execution_count": 15,
      "outputs": [
        {
          "output_type": "stream",
          "name": "stdout",
          "text": [
            "Saved model to: /content/drive/MyDrive/NSynth/models/nsynth_cuml_rf_base.joblib\n"
          ]
        }
      ]
    },
    {
      "cell_type": "markdown",
      "source": [
        "## Hyperparameter tuning"
      ],
      "metadata": {
        "id": "U61XYJL4OVO2"
      }
    },
    {
      "cell_type": "code",
      "source": [
        "def valid_metrics(rf):\n",
        "    \"\"\"Return (macro-F1, accuracy, top-3 accuracy) on the held-out set.\"\"\"\n",
        "    y_pred   = rf.predict(X_valid_cu)\n",
        "    proba    = rf.predict_proba(X_valid_cu)\n",
        "\n",
        "    f1   = f1_score(cp.asnumpy(y_valid_cu),\n",
        "                    cp.asnumpy(y_pred),\n",
        "                    average=\"macro\")\n",
        "    acc  = accuracy_score(cp.asnumpy(y_valid_cu),\n",
        "                          cp.asnumpy(y_pred))\n",
        "    top3 = top_k_accuracy_score(cp.asnumpy(y_valid_cu),\n",
        "                                cp.asnumpy(proba),\n",
        "                                k=3,\n",
        "                                labels=np.arange(y_uniques.size))\n",
        "    return f1, acc, top3\n",
        "\n",
        "search_space = list(itertools.product(\n",
        "    [256, 1024], # n_estimators\n",
        "    [12, 16], # max_depth\n",
        "    [ 0.6, \"sqrt\"], # max_features\n",
        "    [0.6, 0.9], # rows_sample\n",
        "    [16, 32], # n_bins\n",
        "    [\"GLOBAL_QUANTILE\", \"HIST\"] # split_algo\n",
        "))\n",
        "\n",
        "random.seed(42)\n",
        "candidates = random.sample(search_space, 64)   # pick 64 combos\n",
        "\n",
        "results = []\n",
        "\n",
        "for (n_est, depth, feat, row_samp, bins, algo) in tqdm(candidates,\n",
        "                                                       desc=\"H-param sweep\"):\n",
        "\n",
        "    rf = cuRF(\n",
        "        n_estimators = n_est,   max_depth   = depth,\n",
        "        max_features = feat,    rows_sample = row_samp,\n",
        "        n_bins       = bins,    split_algo  = algo,\n",
        "        n_streams    = 6,       bootstrap   = True, ##n=1\n",
        "        random_state = 42,\n",
        "    )\n",
        "\n",
        "    t0 = time.time()\n",
        "    rf.fit(X_train_cu, y_train_cu)\n",
        "    f1, acc, top3 = valid_metrics(rf)\n",
        "    dt = time.time() - t0\n",
        "\n",
        "    results.append({\n",
        "        \"F1\": f1, \"Acc\": acc, \"Top3\": top3,\n",
        "        \"trees\": n_est, \"depth\": depth,\n",
        "        \"max_feat\": feat, \"row_samp\": row_samp,\n",
        "        \"bins\": bins, \"algo\": algo,\n",
        "        \"sec\": dt\n",
        "    })\n",
        "\n",
        "    # free VRAM before next run\n",
        "    del rf\n",
        "    cp.cuda.Device(0).synchronize()\n",
        "    cp.get_default_memory_pool().free_all_blocks()\n",
        "    gc.collect()\n"
      ],
      "metadata": {
        "colab": {
          "base_uri": "https://localhost:8080/",
          "height": 1000,
          "referenced_widgets": [
            "b509b94fd7dd461bbb162b895e9e768a",
            "8b25264f68044ee9b7e3dca1cc5e0286",
            "18d303be09014b56974ec00dc4ac8de8",
            "c0eb31ed4ed142e49ca720b471f2e38b",
            "1a572ece22104d07b06fab90484c52b1",
            "63d36ad4ca294540b90ce118868887bc",
            "221fbaa607d545dd8637148ccd86ad05",
            "4b1c0036d121440cbd5147a3f0f09076",
            "eb5f7a36c9ae48719c36ef1fb25e9804",
            "4abbc97699ad41478254fc63ab033e98",
            "324bd90e306f4cfcb10e8502f0145371"
          ]
        },
        "id": "vBERtnw8OYDw",
        "outputId": "203019c6-01de-41a0-9132-f36eae15d406"
      },
      "execution_count": 16,
      "outputs": [
        {
          "output_type": "display_data",
          "data": {
            "text/plain": [
              "H-param sweep:   0%|          | 0/64 [00:00<?, ?it/s]"
            ],
            "application/vnd.jupyter.widget-view+json": {
              "version_major": 2,
              "version_minor": 0,
              "model_id": "b509b94fd7dd461bbb162b895e9e768a"
            }
          },
          "metadata": {}
        },
        {
          "output_type": "stream",
          "name": "stdout",
          "text": [
            "[2025-05-17 19:04:57.832] [CUML] [info] Unused keyword parameter: rows_sample during cuML estimator initialization\n",
            "[2025-05-17 19:04:57.832] [CUML] [info] Unused keyword parameter: split_algo during cuML estimator initialization\n"
          ]
        },
        {
          "output_type": "stream",
          "name": "stderr",
          "text": [
            "/usr/local/lib/python3.11/dist-packages/cuml/internals/api_decorators.py:317: UserWarning: For reproducible results in Random Forest Classifier or for almost reproducible results in Random Forest Regressor, n_streams=1 is recommended. If n_streams is > 1, results may vary due to stream/thread timing differences, even when random_state is set\n",
            "  return init_func(self, *args, **kwargs)\n"
          ]
        },
        {
          "output_type": "stream",
          "name": "stdout",
          "text": [
            "[2025-05-17 19:04:59.877] [CUML] [info] Unused keyword parameter: rows_sample during cuML estimator initialization\n",
            "[2025-05-17 19:04:59.877] [CUML] [info] Unused keyword parameter: split_algo during cuML estimator initialization\n"
          ]
        },
        {
          "output_type": "stream",
          "name": "stderr",
          "text": [
            "/usr/local/lib/python3.11/dist-packages/cuml/internals/api_decorators.py:317: UserWarning: For reproducible results in Random Forest Classifier or for almost reproducible results in Random Forest Regressor, n_streams=1 is recommended. If n_streams is > 1, results may vary due to stream/thread timing differences, even when random_state is set\n",
            "  return init_func(self, *args, **kwargs)\n"
          ]
        },
        {
          "output_type": "stream",
          "name": "stdout",
          "text": [
            "[2025-05-17 19:05:04.725] [CUML] [info] Unused keyword parameter: rows_sample during cuML estimator initialization\n",
            "[2025-05-17 19:05:04.725] [CUML] [info] Unused keyword parameter: split_algo during cuML estimator initialization\n"
          ]
        },
        {
          "output_type": "stream",
          "name": "stderr",
          "text": [
            "/usr/local/lib/python3.11/dist-packages/cuml/internals/api_decorators.py:317: UserWarning: For reproducible results in Random Forest Classifier or for almost reproducible results in Random Forest Regressor, n_streams=1 is recommended. If n_streams is > 1, results may vary due to stream/thread timing differences, even when random_state is set\n",
            "  return init_func(self, *args, **kwargs)\n"
          ]
        },
        {
          "output_type": "stream",
          "name": "stdout",
          "text": [
            "[2025-05-17 19:05:12.128] [CUML] [info] Unused keyword parameter: rows_sample during cuML estimator initialization\n",
            "[2025-05-17 19:05:12.128] [CUML] [info] Unused keyword parameter: split_algo during cuML estimator initialization\n"
          ]
        },
        {
          "output_type": "stream",
          "name": "stderr",
          "text": [
            "/usr/local/lib/python3.11/dist-packages/cuml/internals/api_decorators.py:317: UserWarning: For reproducible results in Random Forest Classifier or for almost reproducible results in Random Forest Regressor, n_streams=1 is recommended. If n_streams is > 1, results may vary due to stream/thread timing differences, even when random_state is set\n",
            "  return init_func(self, *args, **kwargs)\n"
          ]
        },
        {
          "output_type": "stream",
          "name": "stdout",
          "text": [
            "[2025-05-17 19:05:22.690] [CUML] [info] Unused keyword parameter: rows_sample during cuML estimator initialization\n",
            "[2025-05-17 19:05:22.690] [CUML] [info] Unused keyword parameter: split_algo during cuML estimator initialization\n"
          ]
        },
        {
          "output_type": "stream",
          "name": "stderr",
          "text": [
            "/usr/local/lib/python3.11/dist-packages/cuml/internals/api_decorators.py:317: UserWarning: For reproducible results in Random Forest Classifier or for almost reproducible results in Random Forest Regressor, n_streams=1 is recommended. If n_streams is > 1, results may vary due to stream/thread timing differences, even when random_state is set\n",
            "  return init_func(self, *args, **kwargs)\n"
          ]
        },
        {
          "output_type": "stream",
          "name": "stdout",
          "text": [
            "[2025-05-17 19:05:24.631] [CUML] [info] Unused keyword parameter: rows_sample during cuML estimator initialization\n",
            "[2025-05-17 19:05:24.631] [CUML] [info] Unused keyword parameter: split_algo during cuML estimator initialization\n"
          ]
        },
        {
          "output_type": "stream",
          "name": "stderr",
          "text": [
            "/usr/local/lib/python3.11/dist-packages/cuml/internals/api_decorators.py:317: UserWarning: For reproducible results in Random Forest Classifier or for almost reproducible results in Random Forest Regressor, n_streams=1 is recommended. If n_streams is > 1, results may vary due to stream/thread timing differences, even when random_state is set\n",
            "  return init_func(self, *args, **kwargs)\n"
          ]
        },
        {
          "output_type": "stream",
          "name": "stdout",
          "text": [
            "[2025-05-17 19:05:35.773] [CUML] [info] Unused keyword parameter: rows_sample during cuML estimator initialization\n",
            "[2025-05-17 19:05:35.773] [CUML] [info] Unused keyword parameter: split_algo during cuML estimator initialization\n"
          ]
        },
        {
          "output_type": "stream",
          "name": "stderr",
          "text": [
            "/usr/local/lib/python3.11/dist-packages/cuml/internals/api_decorators.py:317: UserWarning: For reproducible results in Random Forest Classifier or for almost reproducible results in Random Forest Regressor, n_streams=1 is recommended. If n_streams is > 1, results may vary due to stream/thread timing differences, even when random_state is set\n",
            "  return init_func(self, *args, **kwargs)\n"
          ]
        },
        {
          "output_type": "stream",
          "name": "stdout",
          "text": [
            "[2025-05-17 19:05:37.635] [CUML] [info] Unused keyword parameter: rows_sample during cuML estimator initialization\n",
            "[2025-05-17 19:05:37.635] [CUML] [info] Unused keyword parameter: split_algo during cuML estimator initialization\n"
          ]
        },
        {
          "output_type": "stream",
          "name": "stderr",
          "text": [
            "/usr/local/lib/python3.11/dist-packages/cuml/internals/api_decorators.py:317: UserWarning: For reproducible results in Random Forest Classifier or for almost reproducible results in Random Forest Regressor, n_streams=1 is recommended. If n_streams is > 1, results may vary due to stream/thread timing differences, even when random_state is set\n",
            "  return init_func(self, *args, **kwargs)\n"
          ]
        },
        {
          "output_type": "stream",
          "name": "stdout",
          "text": [
            "[2025-05-17 19:05:48.487] [CUML] [info] Unused keyword parameter: rows_sample during cuML estimator initialization\n",
            "[2025-05-17 19:05:48.487] [CUML] [info] Unused keyword parameter: split_algo during cuML estimator initialization\n"
          ]
        },
        {
          "output_type": "stream",
          "name": "stderr",
          "text": [
            "/usr/local/lib/python3.11/dist-packages/cuml/internals/api_decorators.py:317: UserWarning: For reproducible results in Random Forest Classifier or for almost reproducible results in Random Forest Regressor, n_streams=1 is recommended. If n_streams is > 1, results may vary due to stream/thread timing differences, even when random_state is set\n",
            "  return init_func(self, *args, **kwargs)\n"
          ]
        },
        {
          "output_type": "stream",
          "name": "stdout",
          "text": [
            "[2025-05-17 19:05:53.865] [CUML] [info] Unused keyword parameter: rows_sample during cuML estimator initialization\n",
            "[2025-05-17 19:05:53.865] [CUML] [info] Unused keyword parameter: split_algo during cuML estimator initialization\n"
          ]
        },
        {
          "output_type": "stream",
          "name": "stderr",
          "text": [
            "/usr/local/lib/python3.11/dist-packages/cuml/internals/api_decorators.py:317: UserWarning: For reproducible results in Random Forest Classifier or for almost reproducible results in Random Forest Regressor, n_streams=1 is recommended. If n_streams is > 1, results may vary due to stream/thread timing differences, even when random_state is set\n",
            "  return init_func(self, *args, **kwargs)\n"
          ]
        },
        {
          "output_type": "stream",
          "name": "stdout",
          "text": [
            "[2025-05-17 19:06:00.828] [CUML] [info] Unused keyword parameter: rows_sample during cuML estimator initialization\n",
            "[2025-05-17 19:06:00.828] [CUML] [info] Unused keyword parameter: split_algo during cuML estimator initialization\n"
          ]
        },
        {
          "output_type": "stream",
          "name": "stderr",
          "text": [
            "/usr/local/lib/python3.11/dist-packages/cuml/internals/api_decorators.py:317: UserWarning: For reproducible results in Random Forest Classifier or for almost reproducible results in Random Forest Regressor, n_streams=1 is recommended. If n_streams is > 1, results may vary due to stream/thread timing differences, even when random_state is set\n",
            "  return init_func(self, *args, **kwargs)\n"
          ]
        },
        {
          "output_type": "stream",
          "name": "stdout",
          "text": [
            "[2025-05-17 19:06:11.580] [CUML] [info] Unused keyword parameter: rows_sample during cuML estimator initialization\n",
            "[2025-05-17 19:06:11.580] [CUML] [info] Unused keyword parameter: split_algo during cuML estimator initialization\n"
          ]
        },
        {
          "output_type": "stream",
          "name": "stderr",
          "text": [
            "/usr/local/lib/python3.11/dist-packages/cuml/internals/api_decorators.py:317: UserWarning: For reproducible results in Random Forest Classifier or for almost reproducible results in Random Forest Regressor, n_streams=1 is recommended. If n_streams is > 1, results may vary due to stream/thread timing differences, even when random_state is set\n",
            "  return init_func(self, *args, **kwargs)\n"
          ]
        },
        {
          "output_type": "stream",
          "name": "stdout",
          "text": [
            "[2025-05-17 19:06:31.957] [CUML] [info] Unused keyword parameter: rows_sample during cuML estimator initialization\n",
            "[2025-05-17 19:06:31.957] [CUML] [info] Unused keyword parameter: split_algo during cuML estimator initialization\n"
          ]
        },
        {
          "output_type": "stream",
          "name": "stderr",
          "text": [
            "/usr/local/lib/python3.11/dist-packages/cuml/internals/api_decorators.py:317: UserWarning: For reproducible results in Random Forest Classifier or for almost reproducible results in Random Forest Regressor, n_streams=1 is recommended. If n_streams is > 1, results may vary due to stream/thread timing differences, even when random_state is set\n",
            "  return init_func(self, *args, **kwargs)\n"
          ]
        },
        {
          "output_type": "stream",
          "name": "stdout",
          "text": [
            "[2025-05-17 19:06:36.845] [CUML] [info] Unused keyword parameter: rows_sample during cuML estimator initialization\n",
            "[2025-05-17 19:06:36.845] [CUML] [info] Unused keyword parameter: split_algo during cuML estimator initialization\n"
          ]
        },
        {
          "output_type": "stream",
          "name": "stderr",
          "text": [
            "/usr/local/lib/python3.11/dist-packages/cuml/internals/api_decorators.py:317: UserWarning: For reproducible results in Random Forest Classifier or for almost reproducible results in Random Forest Regressor, n_streams=1 is recommended. If n_streams is > 1, results may vary due to stream/thread timing differences, even when random_state is set\n",
            "  return init_func(self, *args, **kwargs)\n"
          ]
        },
        {
          "output_type": "stream",
          "name": "stdout",
          "text": [
            "[2025-05-17 19:06:55.135] [CUML] [info] Unused keyword parameter: rows_sample during cuML estimator initialization\n",
            "[2025-05-17 19:06:55.136] [CUML] [info] Unused keyword parameter: split_algo during cuML estimator initialization\n"
          ]
        },
        {
          "output_type": "stream",
          "name": "stderr",
          "text": [
            "/usr/local/lib/python3.11/dist-packages/cuml/internals/api_decorators.py:317: UserWarning: For reproducible results in Random Forest Classifier or for almost reproducible results in Random Forest Regressor, n_streams=1 is recommended. If n_streams is > 1, results may vary due to stream/thread timing differences, even when random_state is set\n",
            "  return init_func(self, *args, **kwargs)\n"
          ]
        },
        {
          "output_type": "stream",
          "name": "stdout",
          "text": [
            "[2025-05-17 19:07:00.155] [CUML] [info] Unused keyword parameter: rows_sample during cuML estimator initialization\n",
            "[2025-05-17 19:07:00.155] [CUML] [info] Unused keyword parameter: split_algo during cuML estimator initialization\n"
          ]
        },
        {
          "output_type": "stream",
          "name": "stderr",
          "text": [
            "/usr/local/lib/python3.11/dist-packages/cuml/internals/api_decorators.py:317: UserWarning: For reproducible results in Random Forest Classifier or for almost reproducible results in Random Forest Regressor, n_streams=1 is recommended. If n_streams is > 1, results may vary due to stream/thread timing differences, even when random_state is set\n",
            "  return init_func(self, *args, **kwargs)\n"
          ]
        },
        {
          "output_type": "stream",
          "name": "stdout",
          "text": [
            "[2025-05-17 19:07:05.465] [CUML] [info] Unused keyword parameter: rows_sample during cuML estimator initialization\n",
            "[2025-05-17 19:07:05.465] [CUML] [info] Unused keyword parameter: split_algo during cuML estimator initialization\n"
          ]
        },
        {
          "output_type": "stream",
          "name": "stderr",
          "text": [
            "/usr/local/lib/python3.11/dist-packages/cuml/internals/api_decorators.py:317: UserWarning: For reproducible results in Random Forest Classifier or for almost reproducible results in Random Forest Regressor, n_streams=1 is recommended. If n_streams is > 1, results may vary due to stream/thread timing differences, even when random_state is set\n",
            "  return init_func(self, *args, **kwargs)\n"
          ]
        },
        {
          "output_type": "stream",
          "name": "stdout",
          "text": [
            "[2025-05-17 19:07:16.393] [CUML] [info] Unused keyword parameter: rows_sample during cuML estimator initialization\n",
            "[2025-05-17 19:07:16.393] [CUML] [info] Unused keyword parameter: split_algo during cuML estimator initialization\n"
          ]
        },
        {
          "output_type": "stream",
          "name": "stderr",
          "text": [
            "/usr/local/lib/python3.11/dist-packages/cuml/internals/api_decorators.py:317: UserWarning: For reproducible results in Random Forest Classifier or for almost reproducible results in Random Forest Regressor, n_streams=1 is recommended. If n_streams is > 1, results may vary due to stream/thread timing differences, even when random_state is set\n",
            "  return init_func(self, *args, **kwargs)\n"
          ]
        },
        {
          "output_type": "stream",
          "name": "stdout",
          "text": [
            "[2025-05-17 19:07:49.390] [CUML] [info] Unused keyword parameter: rows_sample during cuML estimator initialization\n",
            "[2025-05-17 19:07:49.390] [CUML] [info] Unused keyword parameter: split_algo during cuML estimator initialization\n"
          ]
        },
        {
          "output_type": "stream",
          "name": "stderr",
          "text": [
            "/usr/local/lib/python3.11/dist-packages/cuml/internals/api_decorators.py:317: UserWarning: For reproducible results in Random Forest Classifier or for almost reproducible results in Random Forest Regressor, n_streams=1 is recommended. If n_streams is > 1, results may vary due to stream/thread timing differences, even when random_state is set\n",
            "  return init_func(self, *args, **kwargs)\n"
          ]
        },
        {
          "output_type": "stream",
          "name": "stdout",
          "text": [
            "[2025-05-17 19:07:51.225] [CUML] [info] Unused keyword parameter: rows_sample during cuML estimator initialization\n",
            "[2025-05-17 19:07:51.225] [CUML] [info] Unused keyword parameter: split_algo during cuML estimator initialization\n"
          ]
        },
        {
          "output_type": "stream",
          "name": "stderr",
          "text": [
            "/usr/local/lib/python3.11/dist-packages/cuml/internals/api_decorators.py:317: UserWarning: For reproducible results in Random Forest Classifier or for almost reproducible results in Random Forest Regressor, n_streams=1 is recommended. If n_streams is > 1, results may vary due to stream/thread timing differences, even when random_state is set\n",
            "  return init_func(self, *args, **kwargs)\n"
          ]
        },
        {
          "output_type": "stream",
          "name": "stdout",
          "text": [
            "[2025-05-17 19:08:02.075] [CUML] [info] Unused keyword parameter: rows_sample during cuML estimator initialization\n",
            "[2025-05-17 19:08:02.075] [CUML] [info] Unused keyword parameter: split_algo during cuML estimator initialization\n"
          ]
        },
        {
          "output_type": "stream",
          "name": "stderr",
          "text": [
            "/usr/local/lib/python3.11/dist-packages/cuml/internals/api_decorators.py:317: UserWarning: For reproducible results in Random Forest Classifier or for almost reproducible results in Random Forest Regressor, n_streams=1 is recommended. If n_streams is > 1, results may vary due to stream/thread timing differences, even when random_state is set\n",
            "  return init_func(self, *args, **kwargs)\n"
          ]
        },
        {
          "output_type": "stream",
          "name": "stdout",
          "text": [
            "[2025-05-17 19:08:20.637] [CUML] [info] Unused keyword parameter: rows_sample during cuML estimator initialization\n",
            "[2025-05-17 19:08:20.637] [CUML] [info] Unused keyword parameter: split_algo during cuML estimator initialization\n"
          ]
        },
        {
          "output_type": "stream",
          "name": "stderr",
          "text": [
            "/usr/local/lib/python3.11/dist-packages/cuml/internals/api_decorators.py:317: UserWarning: For reproducible results in Random Forest Classifier or for almost reproducible results in Random Forest Regressor, n_streams=1 is recommended. If n_streams is > 1, results may vary due to stream/thread timing differences, even when random_state is set\n",
            "  return init_func(self, *args, **kwargs)\n"
          ]
        },
        {
          "output_type": "stream",
          "name": "stdout",
          "text": [
            "[2025-05-17 19:08:41.257] [CUML] [info] Unused keyword parameter: rows_sample during cuML estimator initialization\n",
            "[2025-05-17 19:08:41.257] [CUML] [info] Unused keyword parameter: split_algo during cuML estimator initialization\n"
          ]
        },
        {
          "output_type": "stream",
          "name": "stderr",
          "text": [
            "/usr/local/lib/python3.11/dist-packages/cuml/internals/api_decorators.py:317: UserWarning: For reproducible results in Random Forest Classifier or for almost reproducible results in Random Forest Regressor, n_streams=1 is recommended. If n_streams is > 1, results may vary due to stream/thread timing differences, even when random_state is set\n",
            "  return init_func(self, *args, **kwargs)\n"
          ]
        },
        {
          "output_type": "stream",
          "name": "stdout",
          "text": [
            "[2025-05-17 19:09:12.900] [CUML] [info] Unused keyword parameter: rows_sample during cuML estimator initialization\n",
            "[2025-05-17 19:09:12.900] [CUML] [info] Unused keyword parameter: split_algo during cuML estimator initialization\n"
          ]
        },
        {
          "output_type": "stream",
          "name": "stderr",
          "text": [
            "/usr/local/lib/python3.11/dist-packages/cuml/internals/api_decorators.py:317: UserWarning: For reproducible results in Random Forest Classifier or for almost reproducible results in Random Forest Regressor, n_streams=1 is recommended. If n_streams is > 1, results may vary due to stream/thread timing differences, even when random_state is set\n",
            "  return init_func(self, *args, **kwargs)\n"
          ]
        },
        {
          "output_type": "stream",
          "name": "stdout",
          "text": [
            "[2025-05-17 19:09:33.472] [CUML] [info] Unused keyword parameter: rows_sample during cuML estimator initialization\n",
            "[2025-05-17 19:09:33.472] [CUML] [info] Unused keyword parameter: split_algo during cuML estimator initialization\n"
          ]
        },
        {
          "output_type": "stream",
          "name": "stderr",
          "text": [
            "/usr/local/lib/python3.11/dist-packages/cuml/internals/api_decorators.py:317: UserWarning: For reproducible results in Random Forest Classifier or for almost reproducible results in Random Forest Regressor, n_streams=1 is recommended. If n_streams is > 1, results may vary due to stream/thread timing differences, even when random_state is set\n",
            "  return init_func(self, *args, **kwargs)\n"
          ]
        },
        {
          "output_type": "stream",
          "name": "stdout",
          "text": [
            "[2025-05-17 19:09:35.284] [CUML] [info] Unused keyword parameter: rows_sample during cuML estimator initialization\n",
            "[2025-05-17 19:09:35.284] [CUML] [info] Unused keyword parameter: split_algo during cuML estimator initialization\n"
          ]
        },
        {
          "output_type": "stream",
          "name": "stderr",
          "text": [
            "/usr/local/lib/python3.11/dist-packages/cuml/internals/api_decorators.py:317: UserWarning: For reproducible results in Random Forest Classifier or for almost reproducible results in Random Forest Regressor, n_streams=1 is recommended. If n_streams is > 1, results may vary due to stream/thread timing differences, even when random_state is set\n",
            "  return init_func(self, *args, **kwargs)\n"
          ]
        },
        {
          "output_type": "stream",
          "name": "stdout",
          "text": [
            "[2025-05-17 19:10:07.047] [CUML] [info] Unused keyword parameter: rows_sample during cuML estimator initialization\n",
            "[2025-05-17 19:10:07.047] [CUML] [info] Unused keyword parameter: split_algo during cuML estimator initialization\n"
          ]
        },
        {
          "output_type": "stream",
          "name": "stderr",
          "text": [
            "/usr/local/lib/python3.11/dist-packages/cuml/internals/api_decorators.py:317: UserWarning: For reproducible results in Random Forest Classifier or for almost reproducible results in Random Forest Regressor, n_streams=1 is recommended. If n_streams is > 1, results may vary due to stream/thread timing differences, even when random_state is set\n",
            "  return init_func(self, *args, **kwargs)\n"
          ]
        },
        {
          "output_type": "stream",
          "name": "stdout",
          "text": [
            "[2025-05-17 19:10:12.343] [CUML] [info] Unused keyword parameter: rows_sample during cuML estimator initialization\n",
            "[2025-05-17 19:10:12.343] [CUML] [info] Unused keyword parameter: split_algo during cuML estimator initialization\n"
          ]
        },
        {
          "output_type": "stream",
          "name": "stderr",
          "text": [
            "/usr/local/lib/python3.11/dist-packages/cuml/internals/api_decorators.py:317: UserWarning: For reproducible results in Random Forest Classifier or for almost reproducible results in Random Forest Regressor, n_streams=1 is recommended. If n_streams is > 1, results may vary due to stream/thread timing differences, even when random_state is set\n",
            "  return init_func(self, *args, **kwargs)\n"
          ]
        },
        {
          "output_type": "stream",
          "name": "stdout",
          "text": [
            "[2025-05-17 19:10:18.894] [CUML] [info] Unused keyword parameter: rows_sample during cuML estimator initialization\n",
            "[2025-05-17 19:10:18.894] [CUML] [info] Unused keyword parameter: split_algo during cuML estimator initialization\n"
          ]
        },
        {
          "output_type": "stream",
          "name": "stderr",
          "text": [
            "/usr/local/lib/python3.11/dist-packages/cuml/internals/api_decorators.py:317: UserWarning: For reproducible results in Random Forest Classifier or for almost reproducible results in Random Forest Regressor, n_streams=1 is recommended. If n_streams is > 1, results may vary due to stream/thread timing differences, even when random_state is set\n",
            "  return init_func(self, *args, **kwargs)\n"
          ]
        },
        {
          "output_type": "stream",
          "name": "stdout",
          "text": [
            "[2025-05-17 19:10:24.094] [CUML] [info] Unused keyword parameter: rows_sample during cuML estimator initialization\n",
            "[2025-05-17 19:10:24.094] [CUML] [info] Unused keyword parameter: split_algo during cuML estimator initialization\n"
          ]
        },
        {
          "output_type": "stream",
          "name": "stderr",
          "text": [
            "/usr/local/lib/python3.11/dist-packages/cuml/internals/api_decorators.py:317: UserWarning: For reproducible results in Random Forest Classifier or for almost reproducible results in Random Forest Regressor, n_streams=1 is recommended. If n_streams is > 1, results may vary due to stream/thread timing differences, even when random_state is set\n",
            "  return init_func(self, *args, **kwargs)\n"
          ]
        },
        {
          "output_type": "stream",
          "name": "stdout",
          "text": [
            "[2025-05-17 19:10:34.813] [CUML] [info] Unused keyword parameter: rows_sample during cuML estimator initialization\n",
            "[2025-05-17 19:10:34.813] [CUML] [info] Unused keyword parameter: split_algo during cuML estimator initialization\n"
          ]
        },
        {
          "output_type": "stream",
          "name": "stderr",
          "text": [
            "/usr/local/lib/python3.11/dist-packages/cuml/internals/api_decorators.py:317: UserWarning: For reproducible results in Random Forest Classifier or for almost reproducible results in Random Forest Regressor, n_streams=1 is recommended. If n_streams is > 1, results may vary due to stream/thread timing differences, even when random_state is set\n",
            "  return init_func(self, *args, **kwargs)\n"
          ]
        },
        {
          "output_type": "stream",
          "name": "stdout",
          "text": [
            "[2025-05-17 19:10:39.671] [CUML] [info] Unused keyword parameter: rows_sample during cuML estimator initialization\n",
            "[2025-05-17 19:10:39.671] [CUML] [info] Unused keyword parameter: split_algo during cuML estimator initialization\n"
          ]
        },
        {
          "output_type": "stream",
          "name": "stderr",
          "text": [
            "/usr/local/lib/python3.11/dist-packages/cuml/internals/api_decorators.py:317: UserWarning: For reproducible results in Random Forest Classifier or for almost reproducible results in Random Forest Regressor, n_streams=1 is recommended. If n_streams is > 1, results may vary due to stream/thread timing differences, even when random_state is set\n",
            "  return init_func(self, *args, **kwargs)\n"
          ]
        },
        {
          "output_type": "stream",
          "name": "stdout",
          "text": [
            "[2025-05-17 19:10:41.665] [CUML] [info] Unused keyword parameter: rows_sample during cuML estimator initialization\n",
            "[2025-05-17 19:10:41.665] [CUML] [info] Unused keyword parameter: split_algo during cuML estimator initialization\n"
          ]
        },
        {
          "output_type": "stream",
          "name": "stderr",
          "text": [
            "/usr/local/lib/python3.11/dist-packages/cuml/internals/api_decorators.py:317: UserWarning: For reproducible results in Random Forest Classifier or for almost reproducible results in Random Forest Regressor, n_streams=1 is recommended. If n_streams is > 1, results may vary due to stream/thread timing differences, even when random_state is set\n",
            "  return init_func(self, *args, **kwargs)\n"
          ]
        },
        {
          "output_type": "stream",
          "name": "stdout",
          "text": [
            "[2025-05-17 19:11:13.237] [CUML] [info] Unused keyword parameter: rows_sample during cuML estimator initialization\n",
            "[2025-05-17 19:11:13.237] [CUML] [info] Unused keyword parameter: split_algo during cuML estimator initialization\n"
          ]
        },
        {
          "output_type": "stream",
          "name": "stderr",
          "text": [
            "/usr/local/lib/python3.11/dist-packages/cuml/internals/api_decorators.py:317: UserWarning: For reproducible results in Random Forest Classifier or for almost reproducible results in Random Forest Regressor, n_streams=1 is recommended. If n_streams is > 1, results may vary due to stream/thread timing differences, even when random_state is set\n",
            "  return init_func(self, *args, **kwargs)\n"
          ]
        },
        {
          "output_type": "stream",
          "name": "stdout",
          "text": [
            "[2025-05-17 19:11:46.138] [CUML] [info] Unused keyword parameter: rows_sample during cuML estimator initialization\n",
            "[2025-05-17 19:11:46.138] [CUML] [info] Unused keyword parameter: split_algo during cuML estimator initialization\n"
          ]
        },
        {
          "output_type": "stream",
          "name": "stderr",
          "text": [
            "/usr/local/lib/python3.11/dist-packages/cuml/internals/api_decorators.py:317: UserWarning: For reproducible results in Random Forest Classifier or for almost reproducible results in Random Forest Regressor, n_streams=1 is recommended. If n_streams is > 1, results may vary due to stream/thread timing differences, even when random_state is set\n",
            "  return init_func(self, *args, **kwargs)\n"
          ]
        },
        {
          "output_type": "stream",
          "name": "stdout",
          "text": [
            "[2025-05-17 19:11:57.039] [CUML] [info] Unused keyword parameter: rows_sample during cuML estimator initialization\n",
            "[2025-05-17 19:11:57.039] [CUML] [info] Unused keyword parameter: split_algo during cuML estimator initialization\n"
          ]
        },
        {
          "output_type": "stream",
          "name": "stderr",
          "text": [
            "/usr/local/lib/python3.11/dist-packages/cuml/internals/api_decorators.py:317: UserWarning: For reproducible results in Random Forest Classifier or for almost reproducible results in Random Forest Regressor, n_streams=1 is recommended. If n_streams is > 1, results may vary due to stream/thread timing differences, even when random_state is set\n",
            "  return init_func(self, *args, **kwargs)\n"
          ]
        },
        {
          "output_type": "stream",
          "name": "stdout",
          "text": [
            "[2025-05-17 19:12:01.876] [CUML] [info] Unused keyword parameter: rows_sample during cuML estimator initialization\n",
            "[2025-05-17 19:12:01.876] [CUML] [info] Unused keyword parameter: split_algo during cuML estimator initialization\n"
          ]
        },
        {
          "output_type": "stream",
          "name": "stderr",
          "text": [
            "/usr/local/lib/python3.11/dist-packages/cuml/internals/api_decorators.py:317: UserWarning: For reproducible results in Random Forest Classifier or for almost reproducible results in Random Forest Regressor, n_streams=1 is recommended. If n_streams is > 1, results may vary due to stream/thread timing differences, even when random_state is set\n",
            "  return init_func(self, *args, **kwargs)\n"
          ]
        },
        {
          "output_type": "stream",
          "name": "stdout",
          "text": [
            "[2025-05-17 19:12:34.786] [CUML] [info] Unused keyword parameter: rows_sample during cuML estimator initialization\n",
            "[2025-05-17 19:12:34.786] [CUML] [info] Unused keyword parameter: split_algo during cuML estimator initialization\n"
          ]
        },
        {
          "output_type": "stream",
          "name": "stderr",
          "text": [
            "/usr/local/lib/python3.11/dist-packages/cuml/internals/api_decorators.py:317: UserWarning: For reproducible results in Random Forest Classifier or for almost reproducible results in Random Forest Regressor, n_streams=1 is recommended. If n_streams is > 1, results may vary due to stream/thread timing differences, even when random_state is set\n",
            "  return init_func(self, *args, **kwargs)\n"
          ]
        },
        {
          "output_type": "stream",
          "name": "stdout",
          "text": [
            "[2025-05-17 19:12:40.032] [CUML] [info] Unused keyword parameter: rows_sample during cuML estimator initialization\n",
            "[2025-05-17 19:12:40.032] [CUML] [info] Unused keyword parameter: split_algo during cuML estimator initialization\n"
          ]
        },
        {
          "output_type": "stream",
          "name": "stderr",
          "text": [
            "/usr/local/lib/python3.11/dist-packages/cuml/internals/api_decorators.py:317: UserWarning: For reproducible results in Random Forest Classifier or for almost reproducible results in Random Forest Regressor, n_streams=1 is recommended. If n_streams is > 1, results may vary due to stream/thread timing differences, even when random_state is set\n",
            "  return init_func(self, *args, **kwargs)\n"
          ]
        },
        {
          "output_type": "stream",
          "name": "stdout",
          "text": [
            "[2025-05-17 19:12:45.412] [CUML] [info] Unused keyword parameter: rows_sample during cuML estimator initialization\n",
            "[2025-05-17 19:12:45.412] [CUML] [info] Unused keyword parameter: split_algo during cuML estimator initialization\n"
          ]
        },
        {
          "output_type": "stream",
          "name": "stderr",
          "text": [
            "/usr/local/lib/python3.11/dist-packages/cuml/internals/api_decorators.py:317: UserWarning: For reproducible results in Random Forest Classifier or for almost reproducible results in Random Forest Regressor, n_streams=1 is recommended. If n_streams is > 1, results may vary due to stream/thread timing differences, even when random_state is set\n",
            "  return init_func(self, *args, **kwargs)\n"
          ]
        },
        {
          "output_type": "stream",
          "name": "stdout",
          "text": [
            "[2025-05-17 19:12:50.761] [CUML] [info] Unused keyword parameter: rows_sample during cuML estimator initialization\n",
            "[2025-05-17 19:12:50.761] [CUML] [info] Unused keyword parameter: split_algo during cuML estimator initialization\n"
          ]
        },
        {
          "output_type": "stream",
          "name": "stderr",
          "text": [
            "/usr/local/lib/python3.11/dist-packages/cuml/internals/api_decorators.py:317: UserWarning: For reproducible results in Random Forest Classifier or for almost reproducible results in Random Forest Regressor, n_streams=1 is recommended. If n_streams is > 1, results may vary due to stream/thread timing differences, even when random_state is set\n",
            "  return init_func(self, *args, **kwargs)\n"
          ]
        },
        {
          "output_type": "stream",
          "name": "stdout",
          "text": [
            "[2025-05-17 19:13:22.445] [CUML] [info] Unused keyword parameter: rows_sample during cuML estimator initialization\n",
            "[2025-05-17 19:13:22.445] [CUML] [info] Unused keyword parameter: split_algo during cuML estimator initialization\n"
          ]
        },
        {
          "output_type": "stream",
          "name": "stderr",
          "text": [
            "/usr/local/lib/python3.11/dist-packages/cuml/internals/api_decorators.py:317: UserWarning: For reproducible results in Random Forest Classifier or for almost reproducible results in Random Forest Regressor, n_streams=1 is recommended. If n_streams is > 1, results may vary due to stream/thread timing differences, even when random_state is set\n",
            "  return init_func(self, *args, **kwargs)\n"
          ]
        },
        {
          "output_type": "stream",
          "name": "stdout",
          "text": [
            "[2025-05-17 19:13:43.268] [CUML] [info] Unused keyword parameter: rows_sample during cuML estimator initialization\n",
            "[2025-05-17 19:13:43.268] [CUML] [info] Unused keyword parameter: split_algo during cuML estimator initialization\n"
          ]
        },
        {
          "output_type": "stream",
          "name": "stderr",
          "text": [
            "/usr/local/lib/python3.11/dist-packages/cuml/internals/api_decorators.py:317: UserWarning: For reproducible results in Random Forest Classifier or for almost reproducible results in Random Forest Regressor, n_streams=1 is recommended. If n_streams is > 1, results may vary due to stream/thread timing differences, even when random_state is set\n",
            "  return init_func(self, *args, **kwargs)\n"
          ]
        },
        {
          "output_type": "stream",
          "name": "stdout",
          "text": [
            "[2025-05-17 19:14:16.060] [CUML] [info] Unused keyword parameter: rows_sample during cuML estimator initialization\n",
            "[2025-05-17 19:14:16.060] [CUML] [info] Unused keyword parameter: split_algo during cuML estimator initialization\n"
          ]
        },
        {
          "output_type": "stream",
          "name": "stderr",
          "text": [
            "/usr/local/lib/python3.11/dist-packages/cuml/internals/api_decorators.py:317: UserWarning: For reproducible results in Random Forest Classifier or for almost reproducible results in Random Forest Regressor, n_streams=1 is recommended. If n_streams is > 1, results may vary due to stream/thread timing differences, even when random_state is set\n",
            "  return init_func(self, *args, **kwargs)\n"
          ]
        },
        {
          "output_type": "stream",
          "name": "stdout",
          "text": [
            "[2025-05-17 19:14:17.978] [CUML] [info] Unused keyword parameter: rows_sample during cuML estimator initialization\n",
            "[2025-05-17 19:14:17.978] [CUML] [info] Unused keyword parameter: split_algo during cuML estimator initialization\n"
          ]
        },
        {
          "output_type": "stream",
          "name": "stderr",
          "text": [
            "/usr/local/lib/python3.11/dist-packages/cuml/internals/api_decorators.py:317: UserWarning: For reproducible results in Random Forest Classifier or for almost reproducible results in Random Forest Regressor, n_streams=1 is recommended. If n_streams is > 1, results may vary due to stream/thread timing differences, even when random_state is set\n",
            "  return init_func(self, *args, **kwargs)\n"
          ]
        },
        {
          "output_type": "stream",
          "name": "stdout",
          "text": [
            "[2025-05-17 19:14:28.500] [CUML] [info] Unused keyword parameter: rows_sample during cuML estimator initialization\n",
            "[2025-05-17 19:14:28.500] [CUML] [info] Unused keyword parameter: split_algo during cuML estimator initialization\n"
          ]
        },
        {
          "output_type": "stream",
          "name": "stderr",
          "text": [
            "/usr/local/lib/python3.11/dist-packages/cuml/internals/api_decorators.py:317: UserWarning: For reproducible results in Random Forest Classifier or for almost reproducible results in Random Forest Regressor, n_streams=1 is recommended. If n_streams is > 1, results may vary due to stream/thread timing differences, even when random_state is set\n",
            "  return init_func(self, *args, **kwargs)\n"
          ]
        },
        {
          "output_type": "stream",
          "name": "stdout",
          "text": [
            "[2025-05-17 19:14:33.834] [CUML] [info] Unused keyword parameter: rows_sample during cuML estimator initialization\n",
            "[2025-05-17 19:14:33.834] [CUML] [info] Unused keyword parameter: split_algo during cuML estimator initialization\n"
          ]
        },
        {
          "output_type": "stream",
          "name": "stderr",
          "text": [
            "/usr/local/lib/python3.11/dist-packages/cuml/internals/api_decorators.py:317: UserWarning: For reproducible results in Random Forest Classifier or for almost reproducible results in Random Forest Regressor, n_streams=1 is recommended. If n_streams is > 1, results may vary due to stream/thread timing differences, even when random_state is set\n",
            "  return init_func(self, *args, **kwargs)\n"
          ]
        },
        {
          "output_type": "stream",
          "name": "stdout",
          "text": [
            "[2025-05-17 19:14:40.600] [CUML] [info] Unused keyword parameter: rows_sample during cuML estimator initialization\n",
            "[2025-05-17 19:14:40.600] [CUML] [info] Unused keyword parameter: split_algo during cuML estimator initialization\n"
          ]
        },
        {
          "output_type": "stream",
          "name": "stderr",
          "text": [
            "/usr/local/lib/python3.11/dist-packages/cuml/internals/api_decorators.py:317: UserWarning: For reproducible results in Random Forest Classifier or for almost reproducible results in Random Forest Regressor, n_streams=1 is recommended. If n_streams is > 1, results may vary due to stream/thread timing differences, even when random_state is set\n",
            "  return init_func(self, *args, **kwargs)\n"
          ]
        },
        {
          "output_type": "stream",
          "name": "stdout",
          "text": [
            "[2025-05-17 19:14:59.222] [CUML] [info] Unused keyword parameter: rows_sample during cuML estimator initialization\n",
            "[2025-05-17 19:14:59.222] [CUML] [info] Unused keyword parameter: split_algo during cuML estimator initialization\n"
          ]
        },
        {
          "output_type": "stream",
          "name": "stderr",
          "text": [
            "/usr/local/lib/python3.11/dist-packages/cuml/internals/api_decorators.py:317: UserWarning: For reproducible results in Random Forest Classifier or for almost reproducible results in Random Forest Regressor, n_streams=1 is recommended. If n_streams is > 1, results may vary due to stream/thread timing differences, even when random_state is set\n",
            "  return init_func(self, *args, **kwargs)\n"
          ]
        },
        {
          "output_type": "stream",
          "name": "stdout",
          "text": [
            "[2025-05-17 19:15:09.829] [CUML] [info] Unused keyword parameter: rows_sample during cuML estimator initialization\n",
            "[2025-05-17 19:15:09.829] [CUML] [info] Unused keyword parameter: split_algo during cuML estimator initialization\n"
          ]
        },
        {
          "output_type": "stream",
          "name": "stderr",
          "text": [
            "/usr/local/lib/python3.11/dist-packages/cuml/internals/api_decorators.py:317: UserWarning: For reproducible results in Random Forest Classifier or for almost reproducible results in Random Forest Regressor, n_streams=1 is recommended. If n_streams is > 1, results may vary due to stream/thread timing differences, even when random_state is set\n",
            "  return init_func(self, *args, **kwargs)\n"
          ]
        },
        {
          "output_type": "stream",
          "name": "stdout",
          "text": [
            "[2025-05-17 19:15:20.387] [CUML] [info] Unused keyword parameter: rows_sample during cuML estimator initialization\n",
            "[2025-05-17 19:15:20.387] [CUML] [info] Unused keyword parameter: split_algo during cuML estimator initialization\n"
          ]
        },
        {
          "output_type": "stream",
          "name": "stderr",
          "text": [
            "/usr/local/lib/python3.11/dist-packages/cuml/internals/api_decorators.py:317: UserWarning: For reproducible results in Random Forest Classifier or for almost reproducible results in Random Forest Regressor, n_streams=1 is recommended. If n_streams is > 1, results may vary due to stream/thread timing differences, even when random_state is set\n",
            "  return init_func(self, *args, **kwargs)\n"
          ]
        },
        {
          "output_type": "stream",
          "name": "stdout",
          "text": [
            "[2025-05-17 19:15:25.662] [CUML] [info] Unused keyword parameter: rows_sample during cuML estimator initialization\n",
            "[2025-05-17 19:15:25.662] [CUML] [info] Unused keyword parameter: split_algo during cuML estimator initialization\n"
          ]
        },
        {
          "output_type": "stream",
          "name": "stderr",
          "text": [
            "/usr/local/lib/python3.11/dist-packages/cuml/internals/api_decorators.py:317: UserWarning: For reproducible results in Random Forest Classifier or for almost reproducible results in Random Forest Regressor, n_streams=1 is recommended. If n_streams is > 1, results may vary due to stream/thread timing differences, even when random_state is set\n",
            "  return init_func(self, *args, **kwargs)\n"
          ]
        },
        {
          "output_type": "stream",
          "name": "stdout",
          "text": [
            "[2025-05-17 19:15:32.718] [CUML] [info] Unused keyword parameter: rows_sample during cuML estimator initialization\n",
            "[2025-05-17 19:15:32.718] [CUML] [info] Unused keyword parameter: split_algo during cuML estimator initialization\n"
          ]
        },
        {
          "output_type": "stream",
          "name": "stderr",
          "text": [
            "/usr/local/lib/python3.11/dist-packages/cuml/internals/api_decorators.py:317: UserWarning: For reproducible results in Random Forest Classifier or for almost reproducible results in Random Forest Regressor, n_streams=1 is recommended. If n_streams is > 1, results may vary due to stream/thread timing differences, even when random_state is set\n",
            "  return init_func(self, *args, **kwargs)\n"
          ]
        },
        {
          "output_type": "stream",
          "name": "stdout",
          "text": [
            "[2025-05-17 19:15:43.588] [CUML] [info] Unused keyword parameter: rows_sample during cuML estimator initialization\n",
            "[2025-05-17 19:15:43.588] [CUML] [info] Unused keyword parameter: split_algo during cuML estimator initialization\n"
          ]
        },
        {
          "output_type": "stream",
          "name": "stderr",
          "text": [
            "/usr/local/lib/python3.11/dist-packages/cuml/internals/api_decorators.py:317: UserWarning: For reproducible results in Random Forest Classifier or for almost reproducible results in Random Forest Regressor, n_streams=1 is recommended. If n_streams is > 1, results may vary due to stream/thread timing differences, even when random_state is set\n",
            "  return init_func(self, *args, **kwargs)\n"
          ]
        },
        {
          "output_type": "stream",
          "name": "stdout",
          "text": [
            "[2025-05-17 19:15:50.320] [CUML] [info] Unused keyword parameter: rows_sample during cuML estimator initialization\n",
            "[2025-05-17 19:15:50.320] [CUML] [info] Unused keyword parameter: split_algo during cuML estimator initialization\n"
          ]
        },
        {
          "output_type": "stream",
          "name": "stderr",
          "text": [
            "/usr/local/lib/python3.11/dist-packages/cuml/internals/api_decorators.py:317: UserWarning: For reproducible results in Random Forest Classifier or for almost reproducible results in Random Forest Regressor, n_streams=1 is recommended. If n_streams is > 1, results may vary due to stream/thread timing differences, even when random_state is set\n",
            "  return init_func(self, *args, **kwargs)\n"
          ]
        },
        {
          "output_type": "stream",
          "name": "stdout",
          "text": [
            "[2025-05-17 19:15:52.142] [CUML] [info] Unused keyword parameter: rows_sample during cuML estimator initialization\n",
            "[2025-05-17 19:15:52.142] [CUML] [info] Unused keyword parameter: split_algo during cuML estimator initialization\n"
          ]
        },
        {
          "output_type": "stream",
          "name": "stderr",
          "text": [
            "/usr/local/lib/python3.11/dist-packages/cuml/internals/api_decorators.py:317: UserWarning: For reproducible results in Random Forest Classifier or for almost reproducible results in Random Forest Regressor, n_streams=1 is recommended. If n_streams is > 1, results may vary due to stream/thread timing differences, even when random_state is set\n",
            "  return init_func(self, *args, **kwargs)\n"
          ]
        },
        {
          "output_type": "stream",
          "name": "stdout",
          "text": [
            "[2025-05-17 19:15:59.173] [CUML] [info] Unused keyword parameter: rows_sample during cuML estimator initialization\n",
            "[2025-05-17 19:15:59.173] [CUML] [info] Unused keyword parameter: split_algo during cuML estimator initialization\n"
          ]
        },
        {
          "output_type": "stream",
          "name": "stderr",
          "text": [
            "/usr/local/lib/python3.11/dist-packages/cuml/internals/api_decorators.py:317: UserWarning: For reproducible results in Random Forest Classifier or for almost reproducible results in Random Forest Regressor, n_streams=1 is recommended. If n_streams is > 1, results may vary due to stream/thread timing differences, even when random_state is set\n",
            "  return init_func(self, *args, **kwargs)\n"
          ]
        },
        {
          "output_type": "stream",
          "name": "stdout",
          "text": [
            "[2025-05-17 19:16:10.070] [CUML] [info] Unused keyword parameter: rows_sample during cuML estimator initialization\n",
            "[2025-05-17 19:16:10.070] [CUML] [info] Unused keyword parameter: split_algo during cuML estimator initialization\n"
          ]
        },
        {
          "output_type": "stream",
          "name": "stderr",
          "text": [
            "/usr/local/lib/python3.11/dist-packages/cuml/internals/api_decorators.py:317: UserWarning: For reproducible results in Random Forest Classifier or for almost reproducible results in Random Forest Regressor, n_streams=1 is recommended. If n_streams is > 1, results may vary due to stream/thread timing differences, even when random_state is set\n",
            "  return init_func(self, *args, **kwargs)\n"
          ]
        },
        {
          "output_type": "stream",
          "name": "stdout",
          "text": [
            "[2025-05-17 19:16:20.992] [CUML] [info] Unused keyword parameter: rows_sample during cuML estimator initialization\n",
            "[2025-05-17 19:16:20.992] [CUML] [info] Unused keyword parameter: split_algo during cuML estimator initialization\n"
          ]
        },
        {
          "output_type": "stream",
          "name": "stderr",
          "text": [
            "/usr/local/lib/python3.11/dist-packages/cuml/internals/api_decorators.py:317: UserWarning: For reproducible results in Random Forest Classifier or for almost reproducible results in Random Forest Regressor, n_streams=1 is recommended. If n_streams is > 1, results may vary due to stream/thread timing differences, even when random_state is set\n",
            "  return init_func(self, *args, **kwargs)\n"
          ]
        },
        {
          "output_type": "stream",
          "name": "stdout",
          "text": [
            "[2025-05-17 19:16:39.691] [CUML] [info] Unused keyword parameter: rows_sample during cuML estimator initialization\n",
            "[2025-05-17 19:16:39.691] [CUML] [info] Unused keyword parameter: split_algo during cuML estimator initialization\n"
          ]
        },
        {
          "output_type": "stream",
          "name": "stderr",
          "text": [
            "/usr/local/lib/python3.11/dist-packages/cuml/internals/api_decorators.py:317: UserWarning: For reproducible results in Random Forest Classifier or for almost reproducible results in Random Forest Regressor, n_streams=1 is recommended. If n_streams is > 1, results may vary due to stream/thread timing differences, even when random_state is set\n",
            "  return init_func(self, *args, **kwargs)\n"
          ]
        },
        {
          "output_type": "stream",
          "name": "stdout",
          "text": [
            "[2025-05-17 19:16:46.452] [CUML] [info] Unused keyword parameter: rows_sample during cuML estimator initialization\n",
            "[2025-05-17 19:16:46.452] [CUML] [info] Unused keyword parameter: split_algo during cuML estimator initialization\n"
          ]
        },
        {
          "output_type": "stream",
          "name": "stderr",
          "text": [
            "/usr/local/lib/python3.11/dist-packages/cuml/internals/api_decorators.py:317: UserWarning: For reproducible results in Random Forest Classifier or for almost reproducible results in Random Forest Regressor, n_streams=1 is recommended. If n_streams is > 1, results may vary due to stream/thread timing differences, even when random_state is set\n",
            "  return init_func(self, *args, **kwargs)\n"
          ]
        },
        {
          "output_type": "stream",
          "name": "stdout",
          "text": [
            "[2025-05-17 19:16:57.326] [CUML] [info] Unused keyword parameter: rows_sample during cuML estimator initialization\n",
            "[2025-05-17 19:16:57.326] [CUML] [info] Unused keyword parameter: split_algo during cuML estimator initialization\n"
          ]
        },
        {
          "output_type": "stream",
          "name": "stderr",
          "text": [
            "/usr/local/lib/python3.11/dist-packages/cuml/internals/api_decorators.py:317: UserWarning: For reproducible results in Random Forest Classifier or for almost reproducible results in Random Forest Regressor, n_streams=1 is recommended. If n_streams is > 1, results may vary due to stream/thread timing differences, even when random_state is set\n",
            "  return init_func(self, *args, **kwargs)\n"
          ]
        },
        {
          "output_type": "stream",
          "name": "stdout",
          "text": [
            "[2025-05-17 19:17:02.700] [CUML] [info] Unused keyword parameter: rows_sample during cuML estimator initialization\n",
            "[2025-05-17 19:17:02.700] [CUML] [info] Unused keyword parameter: split_algo during cuML estimator initialization\n"
          ]
        },
        {
          "output_type": "stream",
          "name": "stderr",
          "text": [
            "/usr/local/lib/python3.11/dist-packages/cuml/internals/api_decorators.py:317: UserWarning: For reproducible results in Random Forest Classifier or for almost reproducible results in Random Forest Regressor, n_streams=1 is recommended. If n_streams is > 1, results may vary due to stream/thread timing differences, even when random_state is set\n",
            "  return init_func(self, *args, **kwargs)\n"
          ]
        },
        {
          "output_type": "stream",
          "name": "stdout",
          "text": [
            "[2025-05-17 19:17:07.898] [CUML] [info] Unused keyword parameter: rows_sample during cuML estimator initialization\n",
            "[2025-05-17 19:17:07.898] [CUML] [info] Unused keyword parameter: split_algo during cuML estimator initialization\n"
          ]
        },
        {
          "output_type": "stream",
          "name": "stderr",
          "text": [
            "/usr/local/lib/python3.11/dist-packages/cuml/internals/api_decorators.py:317: UserWarning: For reproducible results in Random Forest Classifier or for almost reproducible results in Random Forest Regressor, n_streams=1 is recommended. If n_streams is > 1, results may vary due to stream/thread timing differences, even when random_state is set\n",
            "  return init_func(self, *args, **kwargs)\n"
          ]
        }
      ]
    },
    {
      "cell_type": "markdown",
      "source": [
        "## Evaluating best results"
      ],
      "metadata": {
        "id": "2Fed9OWeSr7z"
      }
    },
    {
      "cell_type": "code",
      "source": [
        "df = (pd.DataFrame(results)\n",
        "        .sort_values(\"F1\", ascending=False)\n",
        "        .reset_index(drop=True))\n",
        "\n",
        "top_f1   = df.head(10)\n",
        "top_acc  = df.sort_values(\"Acc\",  ascending=False).head(10)\n",
        "top_top3 = df.sort_values(\"Top3\", ascending=False).head(10)\n",
        "\n",
        "print(\"\\n=== TOP-10 BY MACRO-F1 ===\")\n",
        "print(top_f1[[\"F1\",\"Acc\",\"Top3\",\"trees\",\"depth\",\"max_feat\",\n",
        "              \"row_samp\",\"bins\",\"algo\",\"sec\"]])\n",
        "\n",
        "print(\"\\n=== TOP-10 BY ACCURACY ===\")\n",
        "print(top_acc[[\"Acc\",\"F1\",\"Top3\",\"trees\",\"depth\",\"max_feat\",\n",
        "               \"row_samp\",\"bins\",\"algo\",\"sec\"]])\n",
        "\n",
        "print(\"\\n=== TOP-10 BY TOP-3 ACCURACY ===\")\n",
        "print(top_top3[[\"Top3\",\"F1\",\"Acc\",\"trees\",\"depth\",\"max_feat\",\n",
        "                \"row_samp\",\"bins\",\"algo\",\"sec\"]])\n",
        "\n",
        "top_f1.to_csv  (\"/content/drive/MyDrive/rf_leaderboard_macroF1.csv\",  index=False)\n",
        "top_acc.to_csv (\"/content/drive/MyDrive/rf_leaderboard_accuracy.csv\", index=False)\n",
        "top_top3.to_csv(\"/content/drive/MyDrive/rf_leaderboard_top3.csv\",     index=False)"
      ],
      "metadata": {
        "colab": {
          "base_uri": "https://localhost:8080/"
        },
        "id": "DM0jFavgSwf_",
        "outputId": "bdf0539b-1833-4472-c119-b7ff59255bdf"
      },
      "execution_count": 17,
      "outputs": [
        {
          "output_type": "stream",
          "name": "stdout",
          "text": [
            "\n",
            "=== TOP-10 BY MACRO-F1 ===\n",
            "         F1       Acc      Top3  trees  depth max_feat  row_samp  bins  \\\n",
            "0  0.609156  0.708077  0.940290   1024     16      0.6       0.6    32   \n",
            "1  0.609156  0.708077  0.940290   1024     16      0.6       0.6    32   \n",
            "2  0.609156  0.708077  0.940290   1024     16      0.6       0.9    32   \n",
            "3  0.609156  0.708077  0.940290   1024     16      0.6       0.9    32   \n",
            "4  0.606218  0.706026  0.940606    256     16      0.6       0.6    32   \n",
            "5  0.606218  0.706026  0.940606    256     16      0.6       0.9    32   \n",
            "6  0.606218  0.706026  0.940606    256     16      0.6       0.9    32   \n",
            "7  0.606218  0.706026  0.940606    256     16      0.6       0.6    32   \n",
            "8  0.603646  0.706657  0.945496    256     16      0.6       0.9    16   \n",
            "9  0.603646  0.706657  0.945496    256     16      0.6       0.6    16   \n",
            "\n",
            "              algo        sec  \n",
            "0             HIST  32.739425  \n",
            "1  GLOBAL_QUANTILE  32.536111  \n",
            "2             HIST  32.658407  \n",
            "3  GLOBAL_QUANTILE  32.655414  \n",
            "4  GLOBAL_QUANTILE  10.634686  \n",
            "5             HIST  10.673519  \n",
            "6  GLOBAL_QUANTILE  10.634829  \n",
            "7             HIST  10.674204  \n",
            "8  GLOBAL_QUANTILE  10.281738  \n",
            "9             HIST  10.316154  \n",
            "\n",
            "=== TOP-10 BY ACCURACY ===\n",
            "         Acc        F1      Top3  trees  depth max_feat  row_samp  bins  \\\n",
            "0   0.708077  0.609156  0.940290   1024     16      0.6       0.6    32   \n",
            "1   0.708077  0.609156  0.940290   1024     16      0.6       0.6    32   \n",
            "2   0.708077  0.609156  0.940290   1024     16      0.6       0.9    32   \n",
            "3   0.708077  0.609156  0.940290   1024     16      0.6       0.9    32   \n",
            "12  0.706736  0.603330  0.941000   1024     16      0.6       0.6    16   \n",
            "13  0.706736  0.603330  0.941000   1024     16      0.6       0.6    16   \n",
            "14  0.706736  0.603330  0.941000   1024     16      0.6       0.9    16   \n",
            "15  0.706736  0.603330  0.941000   1024     16      0.6       0.9    16   \n",
            "11  0.706657  0.603646  0.945496    256     16      0.6       0.9    16   \n",
            "10  0.706657  0.603646  0.945496    256     16      0.6       0.6    16   \n",
            "\n",
            "               algo        sec  \n",
            "0              HIST  32.739425  \n",
            "1   GLOBAL_QUANTILE  32.536111  \n",
            "2              HIST  32.658407  \n",
            "3   GLOBAL_QUANTILE  32.655414  \n",
            "12  GLOBAL_QUANTILE  31.443025  \n",
            "13             HIST  31.314101  \n",
            "14             HIST  31.380331  \n",
            "15  GLOBAL_QUANTILE  31.505462  \n",
            "11             HIST  10.356423  \n",
            "10  GLOBAL_QUANTILE  10.315417  \n",
            "\n",
            "=== TOP-10 BY TOP-3 ACCURACY ===\n",
            "        Top3        F1       Acc  trees  depth max_feat  row_samp  bins  \\\n",
            "11  0.945496  0.603646  0.706657    256     16      0.6       0.9    16   \n",
            "10  0.945496  0.603646  0.706657    256     16      0.6       0.6    16   \n",
            "9   0.945496  0.603646  0.706657    256     16      0.6       0.6    16   \n",
            "8   0.945496  0.603646  0.706657    256     16      0.6       0.9    16   \n",
            "15  0.941000  0.603330  0.706736   1024     16      0.6       0.9    16   \n",
            "14  0.941000  0.603330  0.706736   1024     16      0.6       0.9    16   \n",
            "13  0.941000  0.603330  0.706736   1024     16      0.6       0.6    16   \n",
            "12  0.941000  0.603330  0.706736   1024     16      0.6       0.6    16   \n",
            "4   0.940606  0.606218  0.706026    256     16      0.6       0.6    32   \n",
            "5   0.940606  0.606218  0.706026    256     16      0.6       0.9    32   \n",
            "\n",
            "               algo        sec  \n",
            "11             HIST  10.356423  \n",
            "10  GLOBAL_QUANTILE  10.315417  \n",
            "9              HIST  10.316154  \n",
            "8   GLOBAL_QUANTILE  10.281738  \n",
            "15  GLOBAL_QUANTILE  31.505462  \n",
            "14             HIST  31.380331  \n",
            "13             HIST  31.314101  \n",
            "12  GLOBAL_QUANTILE  31.443025  \n",
            "4   GLOBAL_QUANTILE  10.634686  \n",
            "5              HIST  10.673519  \n"
          ]
        }
      ]
    },
    {
      "cell_type": "code",
      "source": [
        "rf = cuRF(\n",
        "    n_estimators = 2048,   max_depth   = 28,\n",
        "    max_features = 0.6,    rows_sample = 0.6,\n",
        "    n_bins       = 32,    split_algo  = 'HIST',\n",
        "    n_streams    = 6,       bootstrap   = True, ##n=1\n",
        "    random_state = 42,\n",
        ")\n",
        "\n",
        "t0 = time.time()\n",
        "rf.fit(X_train_cu, y_train_cu)\n",
        "f1, acc, top3 = valid_metrics(rf)\n",
        "dt = time.time() - t0\n",
        "\n",
        "results = []\n",
        "\n",
        "results.append({\n",
        "    \"F1\": f1, \"Acc\": acc, \"Top3\": top3,\n",
        "    \"trees\": 2048, \"depth\": 28,\n",
        "    \"max_feat\": 0.6, \"row_samp\": 0.6,\n",
        "    \"bins\": 32, \"algo\": 'HIST',\n",
        "    \"sec\": dt\n",
        "})\n",
        "\n",
        "# free VRAM before next run\n",
        "del rf\n",
        "cp.cuda.Device(0).synchronize()\n",
        "cp.get_default_memory_pool().free_all_blocks()\n",
        "gc.collect()\n",
        "\n",
        "df = (pd.DataFrame(results)\n",
        "        .sort_values(\"F1\", ascending=False)\n",
        "        .reset_index(drop=True))\n",
        "\n",
        "top_f1   = df.head(10)\n",
        "top_acc  = df.sort_values(\"Acc\",  ascending=False).head(10)\n",
        "top_top3 = df.sort_values(\"Top3\", ascending=False).head(10)\n",
        "\n",
        "print(\"\\n=== BEST MODEL F1 ===\")\n",
        "print(top_f1[[\"F1\",\"Acc\",\"Top3\",\"trees\",\"depth\",\"max_feat\",\n",
        "              \"row_samp\",\"bins\",\"algo\",\"sec\"]])\n",
        "\n",
        "print(\"\\n=== BEST MODEL ACCURACY ===\")\n",
        "print(top_acc[[\"Acc\",\"F1\",\"Top3\",\"trees\",\"depth\",\"max_feat\",\n",
        "               \"row_samp\",\"bins\",\"algo\",\"sec\"]])\n",
        "\n",
        "print(\"\\n=== BEST MODEL TOP-3 ACCURACY ===\")\n",
        "print(top_top3[[\"Top3\",\"F1\",\"Acc\",\"trees\",\"depth\",\"max_feat\",\n",
        "                \"row_samp\",\"bins\",\"algo\",\"sec\"]])"
      ],
      "metadata": {
        "colab": {
          "base_uri": "https://localhost:8080/"
        },
        "id": "AIxc84sQPTni",
        "outputId": "fbdb9b88-962e-40b8-f044-5c34c0330fbb"
      },
      "execution_count": 18,
      "outputs": [
        {
          "output_type": "stream",
          "name": "stdout",
          "text": [
            "[2025-05-17 19:17:19.507] [CUML] [info] Unused keyword parameter: rows_sample during cuML estimator initialization\n",
            "[2025-05-17 19:17:19.508] [CUML] [info] Unused keyword parameter: split_algo during cuML estimator initialization\n"
          ]
        },
        {
          "output_type": "stream",
          "name": "stderr",
          "text": [
            "/usr/local/lib/python3.11/dist-packages/cuml/internals/api_decorators.py:317: UserWarning: For reproducible results in Random Forest Classifier or for almost reproducible results in Random Forest Regressor, n_streams=1 is recommended. If n_streams is > 1, results may vary due to stream/thread timing differences, even when random_state is set\n",
            "  return init_func(self, *args, **kwargs)\n"
          ]
        },
        {
          "output_type": "stream",
          "name": "stdout",
          "text": [
            "\n",
            "=== BEST MODEL F1 ===\n",
            "         F1       Acc      Top3  trees  depth  max_feat  row_samp  bins  algo  \\\n",
            "0  0.642672  0.730478  0.935637   2048     28       0.6       0.6    32  HIST   \n",
            "\n",
            "          sec  \n",
            "0  115.367586  \n",
            "\n",
            "=== BEST MODEL ACCURACY ===\n",
            "        Acc        F1      Top3  trees  depth  max_feat  row_samp  bins  algo  \\\n",
            "0  0.730478  0.642672  0.935637   2048     28       0.6       0.6    32  HIST   \n",
            "\n",
            "          sec  \n",
            "0  115.367586  \n",
            "\n",
            "=== BEST MODEL TOP-3 ACCURACY ===\n",
            "       Top3        F1       Acc  trees  depth  max_feat  row_samp  bins  algo  \\\n",
            "0  0.935637  0.642672  0.730478   2048     28       0.6       0.6    32  HIST   \n",
            "\n",
            "          sec  \n",
            "0  115.367586  \n"
          ]
        }
      ]
    }
  ]
}