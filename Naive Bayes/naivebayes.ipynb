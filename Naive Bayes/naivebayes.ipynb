{
 "cells": [
  {
   "cell_type": "code",
   "execution_count": 1,
   "id": "9084993d",
   "metadata": {},
   "outputs": [],
   "source": [
    "import tensorflow as tf"
   ]
  },
  {
   "cell_type": "code",
   "execution_count": 4,
   "id": "d568f110",
   "metadata": {},
   "outputs": [],
   "source": [
    "def parse_tfrecord(file):\n",
    "    feature_description = {\n",
    "        'note': tf.io.FixedLenFeature([], tf.int64),\n",
    "        'note_str': tf.io.FixedLenFeature([], tf.string),\n",
    "        'instrument': tf.io.FixedLenFeature([], tf.int64),\n",
    "        'instrument_str': tf.io.FixedLenFeature([], tf.string),\n",
    "        'pitch': tf.io.FixedLenFeature([], tf.int64),\n",
    "        'velocity': tf.io.FixedLenFeature([], tf.int64),\n",
    "        'sample_rate': tf.io.FixedLenFeature([], tf.int64),\n",
    "        'audio': tf.io.FixedLenFeature([64000], tf.float32), # 4 seconds at 16kHz\n",
    "        'qualities': tf.io.FixedLenFeature([10], tf.int64),\n",
    "        'qualities_str': tf.io.FixedLenFeature([], tf.string),\n",
    "        'instrument_family': tf.io.FixedLenFeature([], tf.int64),\n",
    "        'instrument_family_str': tf.io.FixedLenFeature([], tf.string),\n",
    "        'instrument_source': tf.io.FixedLenFeature([], tf.int64),\n",
    "        'instrument_source_str': tf.io.FixedLenFeature([], tf.string)\n",
    "    }\n",
    "    \n",
    "    return tf.io.parse_single_example(file, feature_description)"
   ]
  }
 ],
 "metadata": {
  "kernelspec": {
   "display_name": ".venv",
   "language": "python",
   "name": "python3"
  },
  "language_info": {
   "codemirror_mode": {
    "name": "ipython",
    "version": 3
   },
   "file_extension": ".py",
   "mimetype": "text/x-python",
   "name": "python",
   "nbconvert_exporter": "python",
   "pygments_lexer": "ipython3",
   "version": "3.11.5"
  }
 },
 "nbformat": 4,
 "nbformat_minor": 5
}
